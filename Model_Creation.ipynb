{
 "cells": [
  {
   "cell_type": "code",
   "execution_count": 1,
   "id": "5b598829",
   "metadata": {},
   "outputs": [],
   "source": [
    "#importing the necessary libraries\n",
    "import pandas as pd\n",
    "import numpy as np\n",
    "import seaborn as sns\n",
    "import matplotlib.pyplot as plt\n",
    "%matplotlib inline"
   ]
  },
  {
   "cell_type": "code",
   "execution_count": 2,
   "id": "b6eda295",
   "metadata": {},
   "outputs": [],
   "source": [
    "# for saving the model\n",
    "import pickle"
   ]
  },
  {
   "cell_type": "code",
   "execution_count": 3,
   "id": "eb90a304",
   "metadata": {},
   "outputs": [
    {
     "data": {
      "text/html": [
       "<div>\n",
       "<style scoped>\n",
       "    .dataframe tbody tr th:only-of-type {\n",
       "        vertical-align: middle;\n",
       "    }\n",
       "\n",
       "    .dataframe tbody tr th {\n",
       "        vertical-align: top;\n",
       "    }\n",
       "\n",
       "    .dataframe thead th {\n",
       "        text-align: right;\n",
       "    }\n",
       "</style>\n",
       "<table border=\"1\" class=\"dataframe\">\n",
       "  <thead>\n",
       "    <tr style=\"text-align: right;\">\n",
       "      <th></th>\n",
       "      <th>Total_Stops</th>\n",
       "      <th>Price</th>\n",
       "      <th>day_of_journey</th>\n",
       "      <th>month_of_journey</th>\n",
       "      <th>Dep_time_hr</th>\n",
       "      <th>Dep_time_minute</th>\n",
       "      <th>Arr_time_hr</th>\n",
       "      <th>Arr_time_minute</th>\n",
       "      <th>duration_hours</th>\n",
       "      <th>duration_minutes</th>\n",
       "      <th>...</th>\n",
       "      <th>Destination_Cochin</th>\n",
       "      <th>Destination_Delhi</th>\n",
       "      <th>Destination_Hyderabad</th>\n",
       "      <th>Destination_Kolkata</th>\n",
       "      <th>Destination_New Delhi</th>\n",
       "      <th>Route_1</th>\n",
       "      <th>Route_2</th>\n",
       "      <th>Route_3</th>\n",
       "      <th>Route_4</th>\n",
       "      <th>Route_5</th>\n",
       "    </tr>\n",
       "  </thead>\n",
       "  <tbody>\n",
       "    <tr>\n",
       "      <th>0</th>\n",
       "      <td>0</td>\n",
       "      <td>3897.0</td>\n",
       "      <td>24</td>\n",
       "      <td>3</td>\n",
       "      <td>22</td>\n",
       "      <td>20</td>\n",
       "      <td>1</td>\n",
       "      <td>10</td>\n",
       "      <td>2</td>\n",
       "      <td>50</td>\n",
       "      <td>...</td>\n",
       "      <td>0</td>\n",
       "      <td>0</td>\n",
       "      <td>0</td>\n",
       "      <td>0</td>\n",
       "      <td>1</td>\n",
       "      <td>0</td>\n",
       "      <td>13</td>\n",
       "      <td>29</td>\n",
       "      <td>13</td>\n",
       "      <td>5</td>\n",
       "    </tr>\n",
       "    <tr>\n",
       "      <th>1</th>\n",
       "      <td>2</td>\n",
       "      <td>7662.0</td>\n",
       "      <td>5</td>\n",
       "      <td>1</td>\n",
       "      <td>5</td>\n",
       "      <td>50</td>\n",
       "      <td>13</td>\n",
       "      <td>15</td>\n",
       "      <td>7</td>\n",
       "      <td>25</td>\n",
       "      <td>...</td>\n",
       "      <td>0</td>\n",
       "      <td>0</td>\n",
       "      <td>0</td>\n",
       "      <td>0</td>\n",
       "      <td>0</td>\n",
       "      <td>2</td>\n",
       "      <td>25</td>\n",
       "      <td>1</td>\n",
       "      <td>3</td>\n",
       "      <td>5</td>\n",
       "    </tr>\n",
       "    <tr>\n",
       "      <th>2</th>\n",
       "      <td>2</td>\n",
       "      <td>13882.0</td>\n",
       "      <td>6</td>\n",
       "      <td>9</td>\n",
       "      <td>9</td>\n",
       "      <td>25</td>\n",
       "      <td>4</td>\n",
       "      <td>25</td>\n",
       "      <td>19</td>\n",
       "      <td>0</td>\n",
       "      <td>...</td>\n",
       "      <td>1</td>\n",
       "      <td>0</td>\n",
       "      <td>0</td>\n",
       "      <td>0</td>\n",
       "      <td>0</td>\n",
       "      <td>3</td>\n",
       "      <td>32</td>\n",
       "      <td>4</td>\n",
       "      <td>5</td>\n",
       "      <td>5</td>\n",
       "    </tr>\n",
       "    <tr>\n",
       "      <th>3</th>\n",
       "      <td>1</td>\n",
       "      <td>6218.0</td>\n",
       "      <td>5</td>\n",
       "      <td>12</td>\n",
       "      <td>18</td>\n",
       "      <td>5</td>\n",
       "      <td>23</td>\n",
       "      <td>30</td>\n",
       "      <td>5</td>\n",
       "      <td>25</td>\n",
       "      <td>...</td>\n",
       "      <td>0</td>\n",
       "      <td>0</td>\n",
       "      <td>0</td>\n",
       "      <td>0</td>\n",
       "      <td>0</td>\n",
       "      <td>2</td>\n",
       "      <td>34</td>\n",
       "      <td>3</td>\n",
       "      <td>13</td>\n",
       "      <td>5</td>\n",
       "    </tr>\n",
       "    <tr>\n",
       "      <th>4</th>\n",
       "      <td>1</td>\n",
       "      <td>13302.0</td>\n",
       "      <td>3</td>\n",
       "      <td>1</td>\n",
       "      <td>16</td>\n",
       "      <td>50</td>\n",
       "      <td>21</td>\n",
       "      <td>35</td>\n",
       "      <td>4</td>\n",
       "      <td>45</td>\n",
       "      <td>...</td>\n",
       "      <td>0</td>\n",
       "      <td>0</td>\n",
       "      <td>0</td>\n",
       "      <td>0</td>\n",
       "      <td>1</td>\n",
       "      <td>0</td>\n",
       "      <td>34</td>\n",
       "      <td>8</td>\n",
       "      <td>13</td>\n",
       "      <td>5</td>\n",
       "    </tr>\n",
       "  </tbody>\n",
       "</table>\n",
       "<p>5 rows × 35 columns</p>\n",
       "</div>"
      ],
      "text/plain": [
       "   Total_Stops    Price  day_of_journey  month_of_journey  Dep_time_hr  \\\n",
       "0            0   3897.0              24                 3           22   \n",
       "1            2   7662.0               5                 1            5   \n",
       "2            2  13882.0               6                 9            9   \n",
       "3            1   6218.0               5                12           18   \n",
       "4            1  13302.0               3                 1           16   \n",
       "\n",
       "   Dep_time_minute  Arr_time_hr  Arr_time_minute  duration_hours  \\\n",
       "0               20            1               10               2   \n",
       "1               50           13               15               7   \n",
       "2               25            4               25              19   \n",
       "3                5           23               30               5   \n",
       "4               50           21               35               4   \n",
       "\n",
       "   duration_minutes  ...  Destination_Cochin  Destination_Delhi  \\\n",
       "0                50  ...                   0                  0   \n",
       "1                25  ...                   0                  0   \n",
       "2                 0  ...                   1                  0   \n",
       "3                25  ...                   0                  0   \n",
       "4                45  ...                   0                  0   \n",
       "\n",
       "   Destination_Hyderabad  Destination_Kolkata  Destination_New Delhi  Route_1  \\\n",
       "0                      0                    0                      1        0   \n",
       "1                      0                    0                      0        2   \n",
       "2                      0                    0                      0        3   \n",
       "3                      0                    0                      0        2   \n",
       "4                      0                    0                      1        0   \n",
       "\n",
       "   Route_2  Route_3  Route_4  Route_5  \n",
       "0       13       29       13        5  \n",
       "1       25        1        3        5  \n",
       "2       32        4        5        5  \n",
       "3       34        3       13        5  \n",
       "4       34        8       13        5  \n",
       "\n",
       "[5 rows x 35 columns]"
      ]
     },
     "execution_count": 3,
     "metadata": {},
     "output_type": "execute_result"
    }
   ],
   "source": [
    "train_data=pd.read_csv('processed_data.csv',index_col=0)\n",
    "train_data.head()"
   ]
  },
  {
   "cell_type": "markdown",
   "id": "2be7747d",
   "metadata": {},
   "source": [
    "## Splitting the dataset into train and test data"
   ]
  },
  {
   "cell_type": "code",
   "execution_count": 4,
   "id": "bc841fa6",
   "metadata": {},
   "outputs": [],
   "source": [
    "from sklearn.model_selection import train_test_split"
   ]
  },
  {
   "cell_type": "code",
   "execution_count": 5,
   "id": "f7a374ba",
   "metadata": {},
   "outputs": [],
   "source": [
    "X=train_data.drop('Price',axis=1)   # all columns except the price column\n",
    "y=train_data['Price']               # the price column for which we are predicting\n",
    "\n",
    "X_train, X_test, y_train, y_test = train_test_split(X, y, test_size=0.3)    # 70% train, 30% test"
   ]
  },
  {
   "cell_type": "markdown",
   "id": "b7a7b50f",
   "metadata": {},
   "source": [
    "## Linear Regression"
   ]
  },
  {
   "cell_type": "code",
   "execution_count": 6,
   "id": "50669bb1",
   "metadata": {},
   "outputs": [],
   "source": [
    "from sklearn.linear_model import LinearRegression"
   ]
  },
  {
   "cell_type": "code",
   "execution_count": 7,
   "id": "2e61fb8b",
   "metadata": {},
   "outputs": [],
   "source": [
    "# creating an instance of the Linear Regression model\n",
    "model_linear_reg=LinearRegression()"
   ]
  },
  {
   "cell_type": "code",
   "execution_count": 8,
   "id": "8b6bcbee",
   "metadata": {},
   "outputs": [
    {
     "data": {
      "text/plain": [
       "LinearRegression()"
      ]
     },
     "execution_count": 8,
     "metadata": {},
     "output_type": "execute_result"
    }
   ],
   "source": [
    "# fitting the model\n",
    "model_linear_reg.fit(X_train,y_train)"
   ]
  },
  {
   "cell_type": "code",
   "execution_count": 9,
   "id": "97eeedb9",
   "metadata": {},
   "outputs": [],
   "source": [
    "# making predictions on the test data\n",
    "predictions_linear_reg=model_linear_reg.predict(X_test)"
   ]
  },
  {
   "cell_type": "code",
   "execution_count": 10,
   "id": "5b511d66",
   "metadata": {},
   "outputs": [
    {
     "data": {
      "text/plain": [
       "array([12161.24603679,  5414.47488192,  2530.61235459, ...,\n",
       "        3624.95158967,  5834.97023037, 11389.53749972])"
      ]
     },
     "execution_count": 10,
     "metadata": {},
     "output_type": "execute_result"
    }
   ],
   "source": [
    "predictions_linear_reg"
   ]
  },
  {
   "cell_type": "markdown",
   "id": "198a292f",
   "metadata": {},
   "source": [
    "**Now we need to check how well did our model predict**"
   ]
  },
  {
   "cell_type": "code",
   "execution_count": 11,
   "id": "80a19f4c",
   "metadata": {},
   "outputs": [],
   "source": [
    "from sklearn.metrics import mean_absolute_error,mean_squared_error,explained_variance_score"
   ]
  },
  {
   "cell_type": "code",
   "execution_count": 12,
   "id": "89ba8be8",
   "metadata": {},
   "outputs": [],
   "source": [
    "# Defining a function that prints out all the metrics\n",
    "def metrics(y_true,y_pred):\n",
    "    print(f'MAE: ',mean_absolute_error(y_true,y_pred))\n",
    "    print(f'MSE: ',mean_squared_error(y_true,y_pred))\n",
    "    print(f'RMSE: ',mean_squared_error(y_true,y_pred)**0.5)\n",
    "    print(f'Explained Variance Score: ',explained_variance_score(y_true,y_pred))"
   ]
  },
  {
   "cell_type": "code",
   "execution_count": 13,
   "id": "00060adb",
   "metadata": {},
   "outputs": [],
   "source": [
    "# function for calculating the accuracy\n",
    "def accuracy(y_true,y_predictions):\n",
    "    errors = abs(y_predictions - y_true)\n",
    "    mape = 100 * np.mean(errors / y_true)\n",
    "    accuracy_model = 100 - mape\n",
    "    return accuracy_model"
   ]
  },
  {
   "cell_type": "code",
   "execution_count": 14,
   "id": "aa2c3624",
   "metadata": {},
   "outputs": [
    {
     "name": "stdout",
     "output_type": "stream",
     "text": [
      "MAE:  1924.55369997618\n",
      "MSE:  7231108.603004544\n",
      "RMSE:  2689.0720709948523\n",
      "Explained Variance Score:  0.6202688414347862\n"
     ]
    }
   ],
   "source": [
    "metrics(y_test,predictions_linear_reg)"
   ]
  },
  {
   "cell_type": "code",
   "execution_count": 15,
   "id": "bb0aaf1d",
   "metadata": {},
   "outputs": [
    {
     "data": {
      "text/plain": [
       "76.85989996564984"
      ]
     },
     "execution_count": 15,
     "metadata": {},
     "output_type": "execute_result"
    }
   ],
   "source": [
    "accuracy(y_test,predictions_linear_reg)"
   ]
  },
  {
   "cell_type": "code",
   "execution_count": 16,
   "id": "101ab5eb",
   "metadata": {},
   "outputs": [
    {
     "data": {
      "text/plain": [
       "<seaborn.axisgrid.FacetGrid at 0x22f535acdc0>"
      ]
     },
     "execution_count": 16,
     "metadata": {},
     "output_type": "execute_result"
    },
    {
     "data": {
      "image/png": "[encoded data removed]",
      "text/plain": [
       "<Figure size 360x360 with 1 Axes>"
      ]
     },
     "metadata": {
      "needs_background": "light"
     },
     "output_type": "display_data"
    }
   ],
   "source": [
    "sns.displot(predictions_linear_reg,kde=True)"
   ]
  },
  {
   "cell_type": "code",
   "execution_count": 17,
   "id": "33673a8d",
   "metadata": {},
   "outputs": [],
   "source": [
    "#saving the model in a pickle file\n",
    "file=open('linear_reg.pkl','wb')\n",
    "pickle.dump(model_linear_reg,file)"
   ]
  },
  {
   "cell_type": "markdown",
   "id": "3f735f47",
   "metadata": {},
   "source": [
    "## Random Forest Model"
   ]
  },
  {
   "cell_type": "code",
   "execution_count": 18,
   "id": "11a8772c",
   "metadata": {},
   "outputs": [],
   "source": [
    "from sklearn.ensemble import RandomForestRegressor"
   ]
  },
  {
   "cell_type": "code",
   "execution_count": 19,
   "id": "f6b37700",
   "metadata": {},
   "outputs": [],
   "source": [
    "# creating an instance of the Random Forest model\n",
    "model_random_forest=RandomForestRegressor(n_estimators=500,min_samples_split=3)"
   ]
  },
  {
   "cell_type": "code",
   "execution_count": 20,
   "id": "c00e6c0d",
   "metadata": {},
   "outputs": [
    {
     "data": {
      "text/plain": [
       "RandomForestRegressor(min_samples_split=3, n_estimators=500)"
      ]
     },
     "execution_count": 20,
     "metadata": {},
     "output_type": "execute_result"
    }
   ],
   "source": [
    "# fitting the model\n",
    "model_random_forest.fit(X_train,y_train)"
   ]
  },
  {
   "cell_type": "code",
   "execution_count": 21,
   "id": "a272492d",
   "metadata": {},
   "outputs": [],
   "source": [
    "# making predictions on the test data\n",
    "predictions_random_forest=model_random_forest.predict(X_test)"
   ]
  },
  {
   "cell_type": "code",
   "execution_count": 22,
   "id": "2d184b78",
   "metadata": {},
   "outputs": [
    {
     "name": "stdout",
     "output_type": "stream",
     "text": [
      "MAE:  1146.6746186809169\n",
      "MSE:  3481398.525495711\n",
      "RMSE:  1865.8506171437496\n",
      "Explained Variance Score:  0.8171396091150154\n"
     ]
    }
   ],
   "source": [
    "metrics(y_test,predictions_random_forest)"
   ]
  },
  {
   "cell_type": "code",
   "execution_count": 23,
   "id": "27e9c282",
   "metadata": {},
   "outputs": [
    {
     "data": {
      "text/plain": [
       "87.2050840872908"
      ]
     },
     "execution_count": 23,
     "metadata": {},
     "output_type": "execute_result"
    }
   ],
   "source": [
    "accuracy(y_test,predictions_random_forest) "
   ]
  },
  {
   "cell_type": "code",
   "execution_count": 24,
   "id": "9eb71d4a",
   "metadata": {},
   "outputs": [
    {
     "data": {
      "text/plain": [
       "<seaborn.axisgrid.FacetGrid at 0x22f53b171f0>"
      ]
     },
     "execution_count": 24,
     "metadata": {},
     "output_type": "execute_result"
    },
    {
     "data": {
      "image/png": "[encoded data removed]",
      "text/plain": [
       "<Figure size 360x360 with 1 Axes>"
      ]
     },
     "metadata": {
      "needs_background": "light"
     },
     "output_type": "display_data"
    }
   ],
   "source": [
    "sns.displot(predictions_random_forest,kde=True)"
   ]
  },
  {
   "cell_type": "code",
   "execution_count": 25,
   "id": "794820df",
   "metadata": {},
   "outputs": [],
   "source": [
    "#saving the model in a pickle file\n",
    "file=open('random_forest.pkl','wb')\n",
    "pickle.dump(model_random_forest,file)"
   ]
  },
  {
   "cell_type": "markdown",
   "id": "37bac415",
   "metadata": {},
   "source": [
    "**Hyper-parameter Tuning**"
   ]
  },
  {
   "cell_type": "code",
   "execution_count": 26,
   "id": "2b37ab63",
   "metadata": {},
   "outputs": [],
   "source": [
    "from sklearn.model_selection import RandomizedSearchCV"
   ]
  },
  {
   "cell_type": "code",
   "execution_count": 27,
   "id": "b4a10059",
   "metadata": {},
   "outputs": [],
   "source": [
    "# For using RandomizedSearchCV we would need to specify the parameters and their corresponding values on which it would work\n",
    "# and find the best values\n",
    "\n",
    "n_estimators=[int(x) for x in np.linspace(start=200,stop=2000,num=11)]\n",
    "min_samples_split=[2,4,6,8,10]\n",
    "max_features = ['auto', 'sqrt']\n",
    "bootstrap = [True, False]\n",
    "max_depth = [int(x) for x in np.linspace(10, 110, num = 11)]\n",
    "min_samples_leaf = [1, 2, 4,6]"
   ]
  },
  {
   "cell_type": "code",
   "execution_count": 28,
   "id": "0e3d672a",
   "metadata": {},
   "outputs": [],
   "source": [
    "random_grid = {'n_estimators': n_estimators,\n",
    "               'max_features': max_features,\n",
    "               'max_depth': max_depth,\n",
    "               'min_samples_split': min_samples_split,\n",
    "               'min_samples_leaf': min_samples_leaf,\n",
    "               'bootstrap': bootstrap}"
   ]
  },
  {
   "cell_type": "code",
   "execution_count": 29,
   "id": "03821098",
   "metadata": {},
   "outputs": [
    {
     "name": "stdout",
     "output_type": "stream",
     "text": [
      "{'n_estimators': [200, 380, 560, 740, 920, 1100, 1280, 1460, 1640, 1820, 2000], 'max_features': ['auto', 'sqrt'], 'max_depth': [10, 20, 30, 40, 50, 60, 70, 80, 90, 100, 110], 'min_samples_split': [2, 4, 6, 8, 10], 'min_samples_leaf': [1, 2, 4, 6], 'bootstrap': [True, False]}\n"
     ]
    }
   ],
   "source": [
    "print(random_grid)"
   ]
  },
  {
   "cell_type": "code",
   "execution_count": 30,
   "id": "7fdd325d",
   "metadata": {},
   "outputs": [],
   "source": [
    "model_rf_tuned=RandomForestRegressor()"
   ]
  },
  {
   "cell_type": "code",
   "execution_count": 31,
   "id": "908792da",
   "metadata": {},
   "outputs": [],
   "source": [
    "# n_iter: number of different combinations for which it would run\n",
    "# cv: Cross validation\n",
    "# param_distributions: The list of parameters for which it would check\n",
    "random_forest_tuned = RandomizedSearchCV(estimator = model_rf_tuned, \n",
    "                               param_distributions = random_grid, \n",
    "                               n_iter = 80, cv = 3, verbose=2, \n",
    "                               random_state=42, n_jobs = -1)"
   ]
  },
  {
   "cell_type": "code",
   "execution_count": 32,
   "id": "d77dc8de",
   "metadata": {},
   "outputs": [
    {
     "name": "stdout",
     "output_type": "stream",
     "text": [
      "Fitting 3 folds for each of 80 candidates, totalling 240 fits\n"
     ]
    },
    {
     "data": {
      "text/plain": [
       "RandomizedSearchCV(cv=3, estimator=RandomForestRegressor(), n_iter=80,\n",
       "                   n_jobs=-1,\n",
       "                   param_distributions={'bootstrap': [True, False],\n",
       "                                        'max_depth': [10, 20, 30, 40, 50, 60,\n",
       "                                                      70, 80, 90, 100, 110],\n",
       "                                        'max_features': ['auto', 'sqrt'],\n",
       "                                        'min_samples_leaf': [1, 2, 4, 6],\n",
       "                                        'min_samples_split': [2, 4, 6, 8, 10],\n",
       "                                        'n_estimators': [200, 380, 560, 740,\n",
       "                                                         920, 1100, 1280, 1460,\n",
       "                                                         1640, 1820, 2000]},\n",
       "                   random_state=42, verbose=2)"
      ]
     },
     "execution_count": 32,
     "metadata": {},
     "output_type": "execute_result"
    }
   ],
   "source": [
    "# fit the model to the data\n",
    "random_forest_tuned.fit(X_train,y_train)\n",
    "\n",
    "# This training would take time depending on the number of values specified for each of the parameters of RandomizedSearchCV"
   ]
  },
  {
   "cell_type": "code",
   "execution_count": 33,
   "id": "b5937dd2",
   "metadata": {},
   "outputs": [
    {
     "data": {
      "text/plain": [
       "{'n_estimators': 1640,\n",
       " 'min_samples_split': 10,\n",
       " 'min_samples_leaf': 2,\n",
       " 'max_features': 'auto',\n",
       " 'max_depth': 70,\n",
       " 'bootstrap': True}"
      ]
     },
     "execution_count": 33,
     "metadata": {},
     "output_type": "execute_result"
    }
   ],
   "source": [
    "# list the values of the best parameters\n",
    "random_forest_tuned.best_params_"
   ]
  },
  {
   "cell_type": "code",
   "execution_count": 34,
   "id": "c054781d",
   "metadata": {},
   "outputs": [],
   "source": [
    "# predicting the prices using the tuned model\n",
    "predictions_rf_tuned=random_forest_tuned.predict(X_test)"
   ]
  },
  {
   "cell_type": "code",
   "execution_count": 35,
   "id": "8404b2fd",
   "metadata": {},
   "outputs": [
    {
     "name": "stdout",
     "output_type": "stream",
     "text": [
      "MAE:  1109.1669836900492\n",
      "MSE:  3099996.0122202244\n",
      "RMSE:  1760.6805537121788\n",
      "Explained Variance Score:  0.837169696040516\n"
     ]
    }
   ],
   "source": [
    "metrics(y_test,predictions_rf_tuned)"
   ]
  },
  {
   "cell_type": "code",
   "execution_count": 36,
   "id": "c45883d8",
   "metadata": {},
   "outputs": [
    {
     "data": {
      "text/plain": [
       "87.60033586142406"
      ]
     },
     "execution_count": 36,
     "metadata": {},
     "output_type": "execute_result"
    }
   ],
   "source": [
    "accuracy(y_test,predictions_rf_tuned)"
   ]
  },
  {
   "cell_type": "code",
   "execution_count": 37,
   "id": "ba3a488c",
   "metadata": {},
   "outputs": [
    {
     "data": {
      "text/plain": [
       "<seaborn.axisgrid.FacetGrid at 0x22f541dc640>"
      ]
     },
     "execution_count": 37,
     "metadata": {},
     "output_type": "execute_result"
    },
    {
     "data": {
      "image/png": "[encoded data removed]",
      "text/plain": [
       "<Figure size 360x360 with 1 Axes>"
      ]
     },
     "metadata": {
      "needs_background": "light"
     },
     "output_type": "display_data"
    }
   ],
   "source": [
    "sns.displot(predictions_rf_tuned,kde=True)"
   ]
  },
  {
   "cell_type": "code",
   "execution_count": 38,
   "id": "5da8e4dc",
   "metadata": {},
   "outputs": [],
   "source": [
    "# saving the model\n",
    "file=open('random_forest_tuned.pkl','wb')\n",
    "pickle.dump(random_forest_tuned,file)"
   ]
  },
  {
   "cell_type": "markdown",
   "id": "4fd88a3d",
   "metadata": {},
   "source": [
    "**We were able to improve the accuracy by about 0.3% by the tuning the parameters. The change would vary depending upon the range of parameters chosen for the hyper parameter tuning.**"
   ]
  },
  {
   "cell_type": "markdown",
   "id": "4b1712b4",
   "metadata": {},
   "source": [
    "## K-Nearest Neighbour"
   ]
  },
  {
   "cell_type": "code",
   "execution_count": 39,
   "id": "1a25f99e",
   "metadata": {},
   "outputs": [],
   "source": [
    "from sklearn.neighbors import KNeighborsRegressor"
   ]
  },
  {
   "cell_type": "markdown",
   "id": "5beedfe0",
   "metadata": {},
   "source": [
    "**Without Scaling**"
   ]
  },
  {
   "cell_type": "code",
   "execution_count": 40,
   "id": "64242ce2",
   "metadata": {},
   "outputs": [],
   "source": [
    "model_knn=KNeighborsRegressor()"
   ]
  },
  {
   "cell_type": "code",
   "execution_count": 41,
   "id": "f2ee2f4b",
   "metadata": {},
   "outputs": [
    {
     "data": {
      "text/plain": [
       "KNeighborsRegressor()"
      ]
     },
     "execution_count": 41,
     "metadata": {},
     "output_type": "execute_result"
    }
   ],
   "source": [
    "model_knn.fit(X_train,y_train)"
   ]
  },
  {
   "cell_type": "code",
   "execution_count": 42,
   "id": "707e4252",
   "metadata": {},
   "outputs": [],
   "source": [
    "pred_knn=model_knn.predict(X_test)"
   ]
  },
  {
   "cell_type": "code",
   "execution_count": 43,
   "id": "0a3482f0",
   "metadata": {},
   "outputs": [
    {
     "name": "stdout",
     "output_type": "stream",
     "text": [
      "MAE:  1760.9480811232447\n",
      "MSE:  6751763.6693042135\n",
      "RMSE:  2598.415607500889\n",
      "Explained Variance Score:  0.6455030860177375\n"
     ]
    }
   ],
   "source": [
    "metrics(y_test,pred_knn)"
   ]
  },
  {
   "cell_type": "code",
   "execution_count": 44,
   "id": "c34bf360",
   "metadata": {},
   "outputs": [
    {
     "data": {
      "text/plain": [
       "80.05597995701126"
      ]
     },
     "execution_count": 44,
     "metadata": {},
     "output_type": "execute_result"
    }
   ],
   "source": [
    "accuracy(y_test,pred_knn)"
   ]
  },
  {
   "cell_type": "code",
   "execution_count": 45,
   "id": "5ba871c1",
   "metadata": {},
   "outputs": [],
   "source": [
    "# saving the model\n",
    "file=open('knn_not_scaled.pkl','wb')\n",
    "pickle.dump(model_knn,file)"
   ]
  },
  {
   "cell_type": "markdown",
   "id": "177aaa15",
   "metadata": {},
   "source": [
    "**With Scaling**"
   ]
  },
  {
   "cell_type": "code",
   "execution_count": 46,
   "id": "b9794d58",
   "metadata": {},
   "outputs": [],
   "source": [
    "from sklearn.preprocessing import StandardScaler"
   ]
  },
  {
   "cell_type": "code",
   "execution_count": 47,
   "id": "0a135124",
   "metadata": {},
   "outputs": [],
   "source": [
    "scaler=StandardScaler()"
   ]
  },
  {
   "cell_type": "code",
   "execution_count": 48,
   "id": "6ca0db05",
   "metadata": {},
   "outputs": [],
   "source": [
    "x_train_scaled=scaler.fit_transform(X_train)"
   ]
  },
  {
   "cell_type": "code",
   "execution_count": 49,
   "id": "0ab701aa",
   "metadata": {},
   "outputs": [],
   "source": [
    "x_test_scaled=scaler.transform(X_test)"
   ]
  },
  {
   "cell_type": "code",
   "execution_count": 50,
   "id": "4aba8aea",
   "metadata": {},
   "outputs": [],
   "source": [
    "model_knn_scaled=KNeighborsRegressor()"
   ]
  },
  {
   "cell_type": "code",
   "execution_count": 51,
   "id": "9a0cee24",
   "metadata": {},
   "outputs": [
    {
     "data": {
      "text/plain": [
       "KNeighborsRegressor()"
      ]
     },
     "execution_count": 51,
     "metadata": {},
     "output_type": "execute_result"
    }
   ],
   "source": [
    "model_knn_scaled.fit(x_train_scaled,y_train)"
   ]
  },
  {
   "cell_type": "code",
   "execution_count": 52,
   "id": "72cbbcae",
   "metadata": {},
   "outputs": [],
   "source": [
    "pred_knn_scaled=model_knn_scaled.predict(x_test_scaled)"
   ]
  },
  {
   "cell_type": "code",
   "execution_count": 53,
   "id": "8a0bf569",
   "metadata": {},
   "outputs": [
    {
     "data": {
      "text/plain": [
       "array([11142.6,  5485. ,  3627. , ...,  4221.8,  6716.4, 12366.6])"
      ]
     },
     "execution_count": 53,
     "metadata": {},
     "output_type": "execute_result"
    }
   ],
   "source": [
    "pred_knn_scaled"
   ]
  },
  {
   "cell_type": "code",
   "execution_count": 54,
   "id": "c14b1791",
   "metadata": {},
   "outputs": [
    {
     "name": "stdout",
     "output_type": "stream",
     "text": [
      "MAE:  1514.3419032761312\n",
      "MSE:  4969609.995444618\n",
      "RMSE:  2229.2622087687705\n",
      "Explained Variance Score:  0.7389425603308137\n"
     ]
    }
   ],
   "source": [
    "metrics(y_test,pred_knn_scaled)"
   ]
  },
  {
   "cell_type": "code",
   "execution_count": 55,
   "id": "3cf0d074",
   "metadata": {},
   "outputs": [
    {
     "data": {
      "text/plain": [
       "82.6718727871027"
      ]
     },
     "execution_count": 55,
     "metadata": {},
     "output_type": "execute_result"
    }
   ],
   "source": [
    "accuracy(y_test,pred_knn_scaled)"
   ]
  },
  {
   "cell_type": "code",
   "execution_count": 56,
   "id": "f36dbccb",
   "metadata": {},
   "outputs": [],
   "source": [
    "# saving the model\n",
    "file=open('knn_scaled.pkl','wb')\n",
    "pickle.dump(model_knn_scaled,file)"
   ]
  },
  {
   "cell_type": "markdown",
   "id": "0dc2dcb3",
   "metadata": {},
   "source": [
    "From the two different models of KNN trained above we can see that scaling the values helps in getting a much better accuracy. This is because KNN is based on the idea of the distance of the current point with its K nearest neighbors and hence scaling would help reduce the dominance of scaling factors."
   ]
  },
  {
   "cell_type": "markdown",
   "id": "5f172c3e",
   "metadata": {},
   "source": [
    "**Hyper-parameter Tuning**"
   ]
  },
  {
   "cell_type": "code",
   "execution_count": 57,
   "id": "8ab5c837",
   "metadata": {},
   "outputs": [],
   "source": [
    "n_neighbors=[int(x) for x in np.linspace(2,40,8)]\n",
    "weights=['uniform','distance']\n",
    "algorithm=['auto', 'ball_tree', 'kd_tree', 'brute']\n",
    "p=[int(x) for x in np.arange(1,6)]\n"
   ]
  },
  {
   "cell_type": "code",
   "execution_count": 58,
   "id": "470cc97c",
   "metadata": {},
   "outputs": [],
   "source": [
    "knn_grid={'n_neighbors':n_neighbors, 'weights':weights,'algorithm':algorithm,'p':p}"
   ]
  },
  {
   "cell_type": "code",
   "execution_count": 59,
   "id": "359da1ba",
   "metadata": {},
   "outputs": [
    {
     "name": "stdout",
     "output_type": "stream",
     "text": [
      "{'n_neighbors': [2, 7, 12, 18, 23, 29, 34, 40], 'weights': ['uniform', 'distance'], 'algorithm': ['auto', 'ball_tree', 'kd_tree', 'brute'], 'p': [1, 2, 3, 4, 5]}\n"
     ]
    }
   ],
   "source": [
    "print(knn_grid)"
   ]
  },
  {
   "cell_type": "code",
   "execution_count": 60,
   "id": "777a0981",
   "metadata": {},
   "outputs": [],
   "source": [
    "from sklearn.model_selection import RandomizedSearchCV"
   ]
  },
  {
   "cell_type": "code",
   "execution_count": 61,
   "id": "dd531394",
   "metadata": {},
   "outputs": [],
   "source": [
    "knn_tuned_model=KNeighborsRegressor()"
   ]
  },
  {
   "cell_type": "code",
   "execution_count": 62,
   "id": "e0acbf91",
   "metadata": {},
   "outputs": [],
   "source": [
    "knn_tuned=RandomizedSearchCV(estimator=knn_tuned_model,param_distributions=knn_grid,cv=3,verbose=2,n_iter=70)"
   ]
  },
  {
   "cell_type": "code",
   "execution_count": 63,
   "id": "a6ac7d47",
   "metadata": {},
   "outputs": [
    {
     "name": "stdout",
     "output_type": "stream",
     "text": [
      "Fitting 3 folds for each of 70 candidates, totalling 210 fits\n",
      "[CV] END algorithm=brute, n_neighbors=7, p=3, weights=uniform; total time=  25.4s\n",
      "[CV] END algorithm=brute, n_neighbors=7, p=3, weights=uniform; total time=  25.4s\n",
      "[CV] END algorithm=brute, n_neighbors=7, p=3, weights=uniform; total time=  26.0s\n",
      "[CV] END algorithm=auto, n_neighbors=34, p=2, weights=uniform; total time=   0.5s\n",
      "[CV] END algorithm=auto, n_neighbors=34, p=2, weights=uniform; total time=   0.5s\n",
      "[CV] END algorithm=auto, n_neighbors=34, p=2, weights=uniform; total time=   0.5s\n",
      "[CV] END algorithm=kd_tree, n_neighbors=12, p=3, weights=distance; total time=  23.8s\n",
      "[CV] END algorithm=kd_tree, n_neighbors=12, p=3, weights=distance; total time=  23.5s\n",
      "[CV] END algorithm=kd_tree, n_neighbors=12, p=3, weights=distance; total time=  23.8s\n",
      "[CV] END algorithm=auto, n_neighbors=18, p=1, weights=uniform; total time=   1.1s\n",
      "[CV] END algorithm=auto, n_neighbors=18, p=1, weights=uniform; total time=   1.1s\n",
      "[CV] END algorithm=auto, n_neighbors=18, p=1, weights=uniform; total time=   1.1s\n",
      "[CV] END algorithm=brute, n_neighbors=2, p=1, weights=uniform; total time=   0.9s\n",
      "[CV] END algorithm=brute, n_neighbors=2, p=1, weights=uniform; total time=   0.9s\n",
      "[CV] END algorithm=brute, n_neighbors=2, p=1, weights=uniform; total time=   0.9s\n",
      "[CV] END algorithm=auto, n_neighbors=40, p=3, weights=distance; total time=  25.3s\n",
      "[CV] END algorithm=auto, n_neighbors=40, p=3, weights=distance; total time=  25.6s\n",
      "[CV] END algorithm=auto, n_neighbors=40, p=3, weights=distance; total time=  25.7s\n",
      "[CV] END algorithm=ball_tree, n_neighbors=23, p=3, weights=distance; total time=  27.3s\n",
      "[CV] END algorithm=ball_tree, n_neighbors=23, p=3, weights=distance; total time=  26.5s\n",
      "[CV] END algorithm=ball_tree, n_neighbors=23, p=3, weights=distance; total time=  26.2s\n",
      "[CV] END algorithm=ball_tree, n_neighbors=29, p=3, weights=uniform; total time=  26.2s\n",
      "[CV] END algorithm=ball_tree, n_neighbors=29, p=3, weights=uniform; total time=  26.3s\n",
      "[CV] END algorithm=ball_tree, n_neighbors=29, p=3, weights=uniform; total time=  26.1s\n",
      "[CV] END algorithm=ball_tree, n_neighbors=2, p=5, weights=uniform; total time=  25.0s\n",
      "[CV] END algorithm=ball_tree, n_neighbors=2, p=5, weights=uniform; total time=  25.3s\n",
      "[CV] END algorithm=ball_tree, n_neighbors=2, p=5, weights=uniform; total time=  25.5s\n",
      "[CV] END algorithm=brute, n_neighbors=34, p=2, weights=distance; total time=   0.5s\n",
      "[CV] END algorithm=brute, n_neighbors=34, p=2, weights=distance; total time=   0.5s\n",
      "[CV] END algorithm=brute, n_neighbors=34, p=2, weights=distance; total time=   0.5s\n",
      "[CV] END algorithm=kd_tree, n_neighbors=29, p=1, weights=uniform; total time=   1.7s\n",
      "[CV] END algorithm=kd_tree, n_neighbors=29, p=1, weights=uniform; total time=   1.7s\n",
      "[CV] END algorithm=kd_tree, n_neighbors=29, p=1, weights=uniform; total time=   1.8s\n",
      "[CV] END algorithm=ball_tree, n_neighbors=2, p=3, weights=uniform; total time=  26.1s\n",
      "[CV] END algorithm=ball_tree, n_neighbors=2, p=3, weights=uniform; total time=  25.7s\n",
      "[CV] END algorithm=ball_tree, n_neighbors=2, p=3, weights=uniform; total time=  26.3s\n",
      "[CV] END algorithm=ball_tree, n_neighbors=7, p=5, weights=distance; total time=  25.6s\n",
      "[CV] END algorithm=ball_tree, n_neighbors=7, p=5, weights=distance; total time=  25.5s\n",
      "[CV] END algorithm=ball_tree, n_neighbors=7, p=5, weights=distance; total time=  26.0s\n",
      "[CV] END algorithm=kd_tree, n_neighbors=29, p=5, weights=uniform; total time=  23.5s\n",
      "[CV] END algorithm=kd_tree, n_neighbors=29, p=5, weights=uniform; total time=  23.4s\n",
      "[CV] END algorithm=kd_tree, n_neighbors=29, p=5, weights=uniform; total time=  27.2s\n",
      "[CV] END algorithm=brute, n_neighbors=23, p=5, weights=distance; total time=  26.0s\n",
      "[CV] END algorithm=brute, n_neighbors=23, p=5, weights=distance; total time=  25.9s\n",
      "[CV] END algorithm=brute, n_neighbors=23, p=5, weights=distance; total time=  25.9s\n",
      "[CV] END algorithm=auto, n_neighbors=2, p=4, weights=distance; total time=  25.4s\n",
      "[CV] END algorithm=auto, n_neighbors=2, p=4, weights=distance; total time=  25.2s\n",
      "[CV] END algorithm=auto, n_neighbors=2, p=4, weights=distance; total time=  25.2s\n",
      "[CV] END algorithm=kd_tree, n_neighbors=40, p=5, weights=uniform; total time=  24.2s\n",
      "[CV] END algorithm=kd_tree, n_neighbors=40, p=5, weights=uniform; total time=  23.4s\n",
      "[CV] END algorithm=kd_tree, n_neighbors=40, p=5, weights=uniform; total time=  23.8s\n",
      "[CV] END algorithm=ball_tree, n_neighbors=23, p=1, weights=distance; total time=   1.4s\n",
      "[CV] END algorithm=ball_tree, n_neighbors=23, p=1, weights=distance; total time=   1.4s\n",
      "[CV] END algorithm=ball_tree, n_neighbors=23, p=1, weights=distance; total time=   1.4s\n",
      "[CV] END algorithm=brute, n_neighbors=34, p=4, weights=uniform; total time=  25.3s\n",
      "[CV] END algorithm=brute, n_neighbors=34, p=4, weights=uniform; total time=  26.2s\n",
      "[CV] END algorithm=brute, n_neighbors=34, p=4, weights=uniform; total time=  26.0s\n",
      "[CV] END algorithm=kd_tree, n_neighbors=34, p=2, weights=uniform; total time=   1.9s\n",
      "[CV] END algorithm=kd_tree, n_neighbors=34, p=2, weights=uniform; total time=   1.9s\n",
      "[CV] END algorithm=kd_tree, n_neighbors=34, p=2, weights=uniform; total time=   2.0s\n",
      "[CV] END algorithm=brute, n_neighbors=2, p=4, weights=uniform; total time=  25.8s\n",
      "[CV] END algorithm=brute, n_neighbors=2, p=4, weights=uniform; total time=  25.5s\n",
      "[CV] END algorithm=brute, n_neighbors=2, p=4, weights=uniform; total time=  25.6s\n",
      "[CV] END algorithm=auto, n_neighbors=12, p=3, weights=uniform; total time=  26.1s\n",
      "[CV] END algorithm=auto, n_neighbors=12, p=3, weights=uniform; total time=  26.2s\n",
      "[CV] END algorithm=auto, n_neighbors=12, p=3, weights=uniform; total time=  26.5s\n",
      "[CV] END algorithm=brute, n_neighbors=40, p=4, weights=uniform; total time=  25.5s\n",
      "[CV] END algorithm=brute, n_neighbors=40, p=4, weights=uniform; total time=  25.5s\n",
      "[CV] END algorithm=brute, n_neighbors=40, p=4, weights=uniform; total time=  26.0s\n",
      "[CV] END algorithm=ball_tree, n_neighbors=34, p=1, weights=distance; total time=   1.5s\n",
      "[CV] END algorithm=ball_tree, n_neighbors=34, p=1, weights=distance; total time=   1.4s\n",
      "[CV] END algorithm=ball_tree, n_neighbors=34, p=1, weights=distance; total time=   1.5s\n",
      "[CV] END algorithm=kd_tree, n_neighbors=40, p=4, weights=distance; total time=  24.2s\n",
      "[CV] END algorithm=kd_tree, n_neighbors=40, p=4, weights=distance; total time=  22.8s\n",
      "[CV] END algorithm=kd_tree, n_neighbors=40, p=4, weights=distance; total time=  23.9s\n",
      "[CV] END algorithm=kd_tree, n_neighbors=23, p=2, weights=distance; total time=   2.2s\n",
      "[CV] END algorithm=kd_tree, n_neighbors=23, p=2, weights=distance; total time=   1.9s\n",
      "[CV] END algorithm=kd_tree, n_neighbors=23, p=2, weights=distance; total time=   1.8s\n",
      "[CV] END algorithm=kd_tree, n_neighbors=2, p=5, weights=distance; total time=  22.9s\n",
      "[CV] END algorithm=kd_tree, n_neighbors=2, p=5, weights=distance; total time=  23.8s\n",
      "[CV] END algorithm=kd_tree, n_neighbors=2, p=5, weights=distance; total time=  24.4s\n",
      "[CV] END algorithm=auto, n_neighbors=12, p=5, weights=distance; total time=  25.2s\n",
      "[CV] END algorithm=auto, n_neighbors=12, p=5, weights=distance; total time=  25.4s\n",
      "[CV] END algorithm=auto, n_neighbors=12, p=5, weights=distance; total time=  25.3s\n",
      "[CV] END algorithm=ball_tree, n_neighbors=40, p=5, weights=distance; total time=  26.2s\n",
      "[CV] END algorithm=ball_tree, n_neighbors=40, p=5, weights=distance; total time=  26.3s\n",
      "[CV] END algorithm=ball_tree, n_neighbors=40, p=5, weights=distance; total time=  26.0s\n",
      "[CV] END algorithm=auto, n_neighbors=23, p=3, weights=distance; total time=  27.8s\n",
      "[CV] END algorithm=auto, n_neighbors=23, p=3, weights=distance; total time=  26.3s\n",
      "[CV] END algorithm=auto, n_neighbors=23, p=3, weights=distance; total time=  25.2s\n",
      "[CV] END algorithm=auto, n_neighbors=40, p=4, weights=distance; total time=  25.4s\n",
      "[CV] END algorithm=auto, n_neighbors=40, p=4, weights=distance; total time=  25.3s\n",
      "[CV] END algorithm=auto, n_neighbors=40, p=4, weights=distance; total time=  26.0s\n",
      "[CV] END algorithm=ball_tree, n_neighbors=18, p=5, weights=distance; total time=  26.8s\n",
      "[CV] END algorithm=ball_tree, n_neighbors=18, p=5, weights=distance; total time=  26.6s\n",
      "[CV] END algorithm=ball_tree, n_neighbors=18, p=5, weights=distance; total time=  26.6s\n",
      "[CV] END algorithm=ball_tree, n_neighbors=7, p=3, weights=distance; total time=  26.5s\n"
     ]
    },
    {
     "name": "stdout",
     "output_type": "stream",
     "text": [
      "[CV] END algorithm=ball_tree, n_neighbors=7, p=3, weights=distance; total time=  26.3s\n",
      "[CV] END algorithm=ball_tree, n_neighbors=7, p=3, weights=distance; total time=  27.0s\n",
      "[CV] END algorithm=kd_tree, n_neighbors=29, p=5, weights=distance; total time=  24.2s\n",
      "[CV] END algorithm=kd_tree, n_neighbors=29, p=5, weights=distance; total time=  23.9s\n",
      "[CV] END algorithm=kd_tree, n_neighbors=29, p=5, weights=distance; total time=  24.2s\n",
      "[CV] END algorithm=kd_tree, n_neighbors=29, p=3, weights=distance; total time=  23.8s\n",
      "[CV] END algorithm=kd_tree, n_neighbors=29, p=3, weights=distance; total time=  24.1s\n",
      "[CV] END algorithm=kd_tree, n_neighbors=29, p=3, weights=distance; total time=  23.9s\n",
      "[CV] END algorithm=ball_tree, n_neighbors=29, p=1, weights=distance; total time=   1.4s\n",
      "[CV] END algorithm=ball_tree, n_neighbors=29, p=1, weights=distance; total time=   1.7s\n",
      "[CV] END algorithm=ball_tree, n_neighbors=29, p=1, weights=distance; total time=   1.6s\n",
      "[CV] END algorithm=brute, n_neighbors=7, p=4, weights=uniform; total time=  27.5s\n",
      "[CV] END algorithm=brute, n_neighbors=7, p=4, weights=uniform; total time=  29.1s\n",
      "[CV] END algorithm=brute, n_neighbors=7, p=4, weights=uniform; total time=  28.5s\n",
      "[CV] END algorithm=ball_tree, n_neighbors=12, p=5, weights=uniform; total time=  28.8s\n",
      "[CV] END algorithm=ball_tree, n_neighbors=12, p=5, weights=uniform; total time=  26.6s\n",
      "[CV] END algorithm=ball_tree, n_neighbors=12, p=5, weights=uniform; total time=  26.0s\n",
      "[CV] END algorithm=auto, n_neighbors=40, p=3, weights=uniform; total time=  25.2s\n",
      "[CV] END algorithm=auto, n_neighbors=40, p=3, weights=uniform; total time=  26.0s\n",
      "[CV] END algorithm=auto, n_neighbors=40, p=3, weights=uniform; total time=  26.0s\n",
      "[CV] END algorithm=auto, n_neighbors=7, p=5, weights=distance; total time=  25.6s\n",
      "[CV] END algorithm=auto, n_neighbors=7, p=5, weights=distance; total time=  26.2s\n",
      "[CV] END algorithm=auto, n_neighbors=7, p=5, weights=distance; total time=  26.2s\n",
      "[CV] END algorithm=kd_tree, n_neighbors=12, p=1, weights=distance; total time=   1.7s\n",
      "[CV] END algorithm=kd_tree, n_neighbors=12, p=1, weights=distance; total time=   1.7s\n",
      "[CV] END algorithm=kd_tree, n_neighbors=12, p=1, weights=distance; total time=   1.6s\n",
      "[CV] END algorithm=ball_tree, n_neighbors=18, p=3, weights=uniform; total time=  26.5s\n",
      "[CV] END algorithm=ball_tree, n_neighbors=18, p=3, weights=uniform; total time=  26.8s\n",
      "[CV] END algorithm=ball_tree, n_neighbors=18, p=3, weights=uniform; total time=  26.6s\n",
      "[CV] END algorithm=auto, n_neighbors=2, p=2, weights=uniform; total time=   0.3s\n",
      "[CV] END algorithm=auto, n_neighbors=2, p=2, weights=uniform; total time=   0.4s\n",
      "[CV] END algorithm=auto, n_neighbors=2, p=2, weights=uniform; total time=   0.4s\n",
      "[CV] END algorithm=auto, n_neighbors=29, p=2, weights=uniform; total time=   0.5s\n",
      "[CV] END algorithm=auto, n_neighbors=29, p=2, weights=uniform; total time=   0.6s\n",
      "[CV] END algorithm=auto, n_neighbors=29, p=2, weights=uniform; total time=   0.5s\n",
      "[CV] END algorithm=ball_tree, n_neighbors=23, p=2, weights=uniform; total time=   1.2s\n",
      "[CV] END algorithm=ball_tree, n_neighbors=23, p=2, weights=uniform; total time=   1.4s\n",
      "[CV] END algorithm=ball_tree, n_neighbors=23, p=2, weights=uniform; total time=   1.3s\n",
      "[CV] END algorithm=kd_tree, n_neighbors=7, p=2, weights=uniform; total time=   1.7s\n",
      "[CV] END algorithm=kd_tree, n_neighbors=7, p=2, weights=uniform; total time=   1.7s\n",
      "[CV] END algorithm=kd_tree, n_neighbors=7, p=2, weights=uniform; total time=   1.8s\n",
      "[CV] END algorithm=ball_tree, n_neighbors=34, p=5, weights=uniform; total time=  26.8s\n",
      "[CV] END algorithm=ball_tree, n_neighbors=34, p=5, weights=uniform; total time=  27.4s\n",
      "[CV] END algorithm=ball_tree, n_neighbors=34, p=5, weights=uniform; total time=  29.6s\n",
      "[CV] END algorithm=ball_tree, n_neighbors=40, p=2, weights=distance; total time=   1.6s\n",
      "[CV] END algorithm=ball_tree, n_neighbors=40, p=2, weights=distance; total time=   1.6s\n",
      "[CV] END algorithm=ball_tree, n_neighbors=40, p=2, weights=distance; total time=   1.7s\n",
      "[CV] END algorithm=ball_tree, n_neighbors=34, p=3, weights=distance; total time=  28.9s\n",
      "[CV] END algorithm=ball_tree, n_neighbors=34, p=3, weights=distance; total time=  27.2s\n",
      "[CV] END algorithm=ball_tree, n_neighbors=34, p=3, weights=distance; total time=  26.3s\n",
      "[CV] END algorithm=brute, n_neighbors=40, p=5, weights=uniform; total time=  25.5s\n",
      "[CV] END algorithm=brute, n_neighbors=40, p=5, weights=uniform; total time=  25.5s\n",
      "[CV] END algorithm=brute, n_neighbors=40, p=5, weights=uniform; total time=  25.1s\n",
      "[CV] END algorithm=brute, n_neighbors=18, p=5, weights=uniform; total time=  25.8s\n",
      "[CV] END algorithm=brute, n_neighbors=18, p=5, weights=uniform; total time=  25.5s\n",
      "[CV] END algorithm=brute, n_neighbors=18, p=5, weights=uniform; total time=  23.7s\n",
      "[CV] END algorithm=auto, n_neighbors=29, p=5, weights=uniform; total time=  23.1s\n",
      "[CV] END algorithm=auto, n_neighbors=29, p=5, weights=uniform; total time=  20.8s\n",
      "[CV] END algorithm=auto, n_neighbors=29, p=5, weights=uniform; total time=  12.6s\n",
      "[CV] END algorithm=brute, n_neighbors=29, p=2, weights=distance; total time=   0.2s\n",
      "[CV] END algorithm=brute, n_neighbors=29, p=2, weights=distance; total time=   0.2s\n",
      "[CV] END algorithm=brute, n_neighbors=29, p=2, weights=distance; total time=   0.3s\n",
      "[CV] END algorithm=ball_tree, n_neighbors=18, p=4, weights=uniform; total time=  10.9s\n",
      "[CV] END algorithm=ball_tree, n_neighbors=18, p=4, weights=uniform; total time=  10.6s\n",
      "[CV] END algorithm=ball_tree, n_neighbors=18, p=4, weights=uniform; total time=  10.6s\n",
      "[CV] END algorithm=kd_tree, n_neighbors=34, p=5, weights=uniform; total time=   9.3s\n",
      "[CV] END algorithm=kd_tree, n_neighbors=34, p=5, weights=uniform; total time=   9.3s\n",
      "[CV] END algorithm=kd_tree, n_neighbors=34, p=5, weights=uniform; total time=   9.6s\n",
      "[CV] END algorithm=ball_tree, n_neighbors=40, p=1, weights=distance; total time=   0.5s\n",
      "[CV] END algorithm=ball_tree, n_neighbors=40, p=1, weights=distance; total time=   0.5s\n",
      "[CV] END algorithm=ball_tree, n_neighbors=40, p=1, weights=distance; total time=   0.5s\n",
      "[CV] END algorithm=auto, n_neighbors=7, p=3, weights=distance; total time=  10.2s\n",
      "[CV] END algorithm=auto, n_neighbors=7, p=3, weights=distance; total time=  10.2s\n",
      "[CV] END algorithm=auto, n_neighbors=7, p=3, weights=distance; total time=  10.1s\n",
      "[CV] END algorithm=auto, n_neighbors=2, p=1, weights=distance; total time=   0.3s\n",
      "[CV] END algorithm=auto, n_neighbors=2, p=1, weights=distance; total time=   0.3s\n",
      "[CV] END algorithm=auto, n_neighbors=2, p=1, weights=distance; total time=   0.3s\n",
      "[CV] END algorithm=ball_tree, n_neighbors=34, p=4, weights=distance; total time=  10.3s\n",
      "[CV] END algorithm=ball_tree, n_neighbors=34, p=4, weights=distance; total time=  10.3s\n",
      "[CV] END algorithm=ball_tree, n_neighbors=34, p=4, weights=distance; total time=  10.4s\n",
      "[CV] END algorithm=brute, n_neighbors=18, p=1, weights=distance; total time=   0.4s\n",
      "[CV] END algorithm=brute, n_neighbors=18, p=1, weights=distance; total time=   0.4s\n",
      "[CV] END algorithm=brute, n_neighbors=18, p=1, weights=distance; total time=   0.4s\n",
      "[CV] END algorithm=kd_tree, n_neighbors=12, p=2, weights=distance; total time=   0.7s\n",
      "[CV] END algorithm=kd_tree, n_neighbors=12, p=2, weights=distance; total time=   0.6s\n",
      "[CV] END algorithm=kd_tree, n_neighbors=12, p=2, weights=distance; total time=   0.6s\n",
      "[CV] END algorithm=ball_tree, n_neighbors=29, p=4, weights=uniform; total time=  10.4s\n",
      "[CV] END algorithm=ball_tree, n_neighbors=29, p=4, weights=uniform; total time=  10.3s\n",
      "[CV] END algorithm=ball_tree, n_neighbors=29, p=4, weights=uniform; total time=  10.3s\n",
      "[CV] END algorithm=ball_tree, n_neighbors=29, p=3, weights=distance; total time=  10.3s\n",
      "[CV] END algorithm=ball_tree, n_neighbors=29, p=3, weights=distance; total time=  10.4s\n",
      "[CV] END algorithm=ball_tree, n_neighbors=29, p=3, weights=distance; total time=  10.4s\n",
      "[CV] END algorithm=kd_tree, n_neighbors=12, p=5, weights=distance; total time=   9.3s\n",
      "[CV] END algorithm=kd_tree, n_neighbors=12, p=5, weights=distance; total time=   9.4s\n",
      "[CV] END algorithm=kd_tree, n_neighbors=12, p=5, weights=distance; total time=   9.4s\n",
      "[CV] END algorithm=ball_tree, n_neighbors=34, p=1, weights=uniform; total time=   0.5s\n",
      "[CV] END algorithm=ball_tree, n_neighbors=34, p=1, weights=uniform; total time=   0.5s\n"
     ]
    },
    {
     "name": "stdout",
     "output_type": "stream",
     "text": [
      "[CV] END algorithm=ball_tree, n_neighbors=34, p=1, weights=uniform; total time=   0.5s\n",
      "[CV] END algorithm=auto, n_neighbors=2, p=1, weights=uniform; total time=   0.3s\n",
      "[CV] END algorithm=auto, n_neighbors=2, p=1, weights=uniform; total time=   0.3s\n",
      "[CV] END algorithm=auto, n_neighbors=2, p=1, weights=uniform; total time=   0.3s\n",
      "[CV] END algorithm=kd_tree, n_neighbors=23, p=1, weights=distance; total time=   0.6s\n",
      "[CV] END algorithm=kd_tree, n_neighbors=23, p=1, weights=distance; total time=   0.6s\n",
      "[CV] END algorithm=kd_tree, n_neighbors=23, p=1, weights=distance; total time=   0.6s\n",
      "[CV] END algorithm=ball_tree, n_neighbors=34, p=5, weights=distance; total time=  10.3s\n",
      "[CV] END algorithm=ball_tree, n_neighbors=34, p=5, weights=distance; total time=  10.9s\n",
      "[CV] END algorithm=ball_tree, n_neighbors=34, p=5, weights=distance; total time=  10.5s\n",
      "[CV] END algorithm=ball_tree, n_neighbors=18, p=2, weights=distance; total time=   0.5s\n",
      "[CV] END algorithm=ball_tree, n_neighbors=18, p=2, weights=distance; total time=   0.5s\n",
      "[CV] END algorithm=ball_tree, n_neighbors=18, p=2, weights=distance; total time=   0.5s\n",
      "[CV] END algorithm=ball_tree, n_neighbors=7, p=5, weights=uniform; total time=  10.4s\n",
      "[CV] END algorithm=ball_tree, n_neighbors=7, p=5, weights=uniform; total time=  10.2s\n",
      "[CV] END algorithm=ball_tree, n_neighbors=7, p=5, weights=uniform; total time=  10.3s\n"
     ]
    },
    {
     "data": {
      "text/plain": [
       "RandomizedSearchCV(cv=3, estimator=KNeighborsRegressor(), n_iter=70,\n",
       "                   param_distributions={'algorithm': ['auto', 'ball_tree',\n",
       "                                                      'kd_tree', 'brute'],\n",
       "                                        'n_neighbors': [2, 7, 12, 18, 23, 29,\n",
       "                                                        34, 40],\n",
       "                                        'p': [1, 2, 3, 4, 5],\n",
       "                                        'weights': ['uniform', 'distance']},\n",
       "                   verbose=2)"
      ]
     },
     "execution_count": 63,
     "metadata": {},
     "output_type": "execute_result"
    }
   ],
   "source": [
    "knn_tuned.fit(x_train_scaled,y_train)"
   ]
  },
  {
   "cell_type": "code",
   "execution_count": 64,
   "id": "a7252c4f",
   "metadata": {},
   "outputs": [
    {
     "data": {
      "text/plain": [
       "{'weights': 'uniform', 'p': 2, 'n_neighbors': 7, 'algorithm': 'kd_tree'}"
      ]
     },
     "execution_count": 64,
     "metadata": {},
     "output_type": "execute_result"
    }
   ],
   "source": [
    "knn_tuned.best_params_"
   ]
  },
  {
   "cell_type": "code",
   "execution_count": 65,
   "id": "221625c5",
   "metadata": {},
   "outputs": [],
   "source": [
    "predictions_knn_tuned=knn_tuned.predict(x_test_scaled)"
   ]
  },
  {
   "cell_type": "code",
   "execution_count": 66,
   "id": "2595b23d",
   "metadata": {},
   "outputs": [
    {
     "data": {
      "text/plain": [
       "array([10670.        ,  5017.85714286,  3631.        , ...,\n",
       "        4264.42857143,  6552.85714286, 12269.14285714])"
      ]
     },
     "execution_count": 66,
     "metadata": {},
     "output_type": "execute_result"
    }
   ],
   "source": [
    "predictions_knn_tuned"
   ]
  },
  {
   "cell_type": "code",
   "execution_count": 67,
   "id": "ffa5dd0d",
   "metadata": {},
   "outputs": [
    {
     "name": "stdout",
     "output_type": "stream",
     "text": [
      "MAE:  1506.7589480722086\n",
      "MSE:  4840793.215339553\n",
      "RMSE:  2200.1802688278867\n",
      "Explained Variance Score:  0.7457253120461651\n"
     ]
    }
   ],
   "source": [
    "metrics(y_test,predictions_knn_tuned)"
   ]
  },
  {
   "cell_type": "code",
   "execution_count": 68,
   "id": "8b90c0c2",
   "metadata": {},
   "outputs": [
    {
     "data": {
      "text/plain": [
       "82.78636345566466"
      ]
     },
     "execution_count": 68,
     "metadata": {},
     "output_type": "execute_result"
    }
   ],
   "source": [
    "accuracy(y_test,predictions_knn_tuned)"
   ]
  },
  {
   "cell_type": "code",
   "execution_count": 69,
   "id": "56be8883",
   "metadata": {},
   "outputs": [],
   "source": [
    "# saving the model\n",
    "file=open('knn_tuned.pkl','wb')\n",
    "pickle.dump(knn_tuned,file)"
   ]
  },
  {
   "cell_type": "markdown",
   "id": "a565e1f1",
   "metadata": {},
   "source": [
    "## Neural Network"
   ]
  },
  {
   "cell_type": "code",
   "execution_count": 70,
   "id": "f54486a8",
   "metadata": {},
   "outputs": [],
   "source": [
    "from sklearn.preprocessing import MinMaxScaler"
   ]
  },
  {
   "cell_type": "code",
   "execution_count": 71,
   "id": "bb6fe2f9",
   "metadata": {},
   "outputs": [],
   "source": [
    "scaler=MinMaxScaler()"
   ]
  },
  {
   "cell_type": "code",
   "execution_count": 72,
   "id": "2e368597",
   "metadata": {},
   "outputs": [],
   "source": [
    "X_train_scaled=scaler.fit_transform(X_train)\n",
    "X_test_scaled=scaler.transform(X_test)"
   ]
  },
  {
   "cell_type": "code",
   "execution_count": 73,
   "id": "fe14b06a",
   "metadata": {},
   "outputs": [
    {
     "data": {
      "text/plain": [
       "(7477, 34)"
      ]
     },
     "execution_count": 73,
     "metadata": {},
     "output_type": "execute_result"
    }
   ],
   "source": [
    "X_train_scaled.shape"
   ]
  },
  {
   "cell_type": "code",
   "execution_count": 74,
   "id": "ae320301",
   "metadata": {},
   "outputs": [],
   "source": [
    "from tensorflow.keras.models import Sequential\n",
    "from tensorflow.keras.layers import Dense,Dropout\n",
    "from tensorflow.keras.callbacks import EarlyStopping"
   ]
  },
  {
   "cell_type": "code",
   "execution_count": 75,
   "id": "8fae8cf0",
   "metadata": {},
   "outputs": [],
   "source": [
    "model_nn=Sequential()\n",
    "\n",
    "model_nn.add(Dense(34,activation='relu'))\n",
    "model_nn.add(Dense(34,activation='relu'))\n",
    "model_nn.add(Dense(34,activation='relu'))\n",
    "model_nn.add(Dense(34,activation='relu'))\n",
    "model_nn.add(Dense(1))\n",
    "\n",
    "model_nn.compile(optimizer='adam',loss='mse')"
   ]
  },
  {
   "cell_type": "code",
   "execution_count": 76,
   "id": "1094c450",
   "metadata": {},
   "outputs": [],
   "source": [
    "early_stop=EarlyStopping(monitor='val_loss',mode='min',patience=20,verbose=1)"
   ]
  },
  {
   "cell_type": "code",
   "execution_count": 77,
   "id": "ded3d308",
   "metadata": {},
   "outputs": [
    {
     "name": "stdout",
     "output_type": "stream",
     "text": [
      "Epoch 1/300\n",
      "234/234 [==============================] - 13s 9ms/step - loss: 65986968.0000 - val_loss: 16552040.0000\n",
      "Epoch 2/300\n",
      "234/234 [==============================] - 2s 7ms/step - loss: 13003942.0000 - val_loss: 9856252.0000\n",
      "Epoch 3/300\n",
      "234/234 [==============================] - 2s 7ms/step - loss: 9220638.0000 - val_loss: 8236470.0000\n",
      "Epoch 4/300\n",
      "234/234 [==============================] - 2s 7ms/step - loss: 8361335.0000 - val_loss: 7773651.5000\n",
      "Epoch 5/300\n",
      "234/234 [==============================] - 2s 7ms/step - loss: 8020816.0000 - val_loss: 7566870.0000\n",
      "Epoch 6/300\n",
      "234/234 [==============================] - 2s 7ms/step - loss: 7816181.5000 - val_loss: 7392877.5000\n",
      "Epoch 7/300\n",
      "234/234 [==============================] - 2s 7ms/step - loss: 7696367.0000 - val_loss: 7347743.0000\n",
      "Epoch 8/300\n",
      "234/234 [==============================] - 2s 7ms/step - loss: 7609457.5000 - val_loss: 7539956.5000\n",
      "Epoch 9/300\n",
      "234/234 [==============================] - 2s 7ms/step - loss: 7549570.5000 - val_loss: 7219870.5000\n",
      "Epoch 10/300\n",
      "234/234 [==============================] - 2s 7ms/step - loss: 7470917.0000 - val_loss: 7169586.0000\n",
      "Epoch 11/300\n",
      "234/234 [==============================] - 2s 7ms/step - loss: 7443888.0000 - val_loss: 7123419.0000\n",
      "Epoch 12/300\n",
      "234/234 [==============================] - 2s 7ms/step - loss: 7396987.5000 - val_loss: 7161515.0000\n",
      "Epoch 13/300\n",
      "234/234 [==============================] - 2s 7ms/step - loss: 7367142.5000 - val_loss: 7161598.5000\n",
      "Epoch 14/300\n",
      "234/234 [==============================] - 2s 7ms/step - loss: 7384331.5000 - val_loss: 7070267.5000\n",
      "Epoch 15/300\n",
      "234/234 [==============================] - 2s 7ms/step - loss: 7358231.5000 - val_loss: 7075552.5000\n",
      "Epoch 16/300\n",
      "234/234 [==============================] - 2s 7ms/step - loss: 7320902.5000 - val_loss: 7044173.5000\n",
      "Epoch 17/300\n",
      "234/234 [==============================] - 2s 7ms/step - loss: 7305377.0000 - val_loss: 7070677.5000\n",
      "Epoch 18/300\n",
      "234/234 [==============================] - 2s 7ms/step - loss: 7277582.0000 - val_loss: 7023082.0000\n",
      "Epoch 19/300\n",
      "234/234 [==============================] - 2s 7ms/step - loss: 7268476.5000 - val_loss: 7066646.0000\n",
      "Epoch 20/300\n",
      "234/234 [==============================] - 2s 7ms/step - loss: 7253267.0000 - val_loss: 7173017.0000\n",
      "Epoch 21/300\n",
      "234/234 [==============================] - 2s 7ms/step - loss: 7225669.0000 - val_loss: 6965666.5000\n",
      "Epoch 22/300\n",
      "234/234 [==============================] - 2s 7ms/step - loss: 7179254.5000 - val_loss: 6957819.5000\n",
      "Epoch 23/300\n",
      "234/234 [==============================] - 2s 7ms/step - loss: 7148793.0000 - val_loss: 6967606.5000\n",
      "Epoch 24/300\n",
      "234/234 [==============================] - 2s 7ms/step - loss: 7133188.5000 - val_loss: 7064390.5000\n",
      "Epoch 25/300\n",
      "234/234 [==============================] - 2s 7ms/step - loss: 7115058.0000 - val_loss: 6911441.0000\n",
      "Epoch 26/300\n",
      "234/234 [==============================] - 2s 7ms/step - loss: 7052845.5000 - val_loss: 6856532.0000\n",
      "Epoch 27/300\n",
      "234/234 [==============================] - 2s 7ms/step - loss: 7046141.0000 - val_loss: 6818805.0000\n",
      "Epoch 28/300\n",
      "234/234 [==============================] - 2s 7ms/step - loss: 7019662.0000 - val_loss: 6818808.0000\n",
      "Epoch 29/300\n",
      "234/234 [==============================] - 2s 7ms/step - loss: 6954554.5000 - val_loss: 6770109.5000\n",
      "Epoch 30/300\n",
      "234/234 [==============================] - 2s 7ms/step - loss: 6934696.0000 - val_loss: 6700291.0000\n",
      "Epoch 31/300\n",
      "234/234 [==============================] - 2s 7ms/step - loss: 6882455.0000 - val_loss: 6648792.0000\n",
      "Epoch 32/300\n",
      "234/234 [==============================] - 2s 7ms/step - loss: 6821416.5000 - val_loss: 6617482.5000\n",
      "Epoch 33/300\n",
      "234/234 [==============================] - 2s 7ms/step - loss: 6756435.0000 - val_loss: 6554373.0000\n",
      "Epoch 34/300\n",
      "234/234 [==============================] - 2s 7ms/step - loss: 6676977.5000 - val_loss: 6477407.5000\n",
      "Epoch 35/300\n",
      "234/234 [==============================] - 2s 7ms/step - loss: 6604732.0000 - val_loss: 6440923.5000\n",
      "Epoch 36/300\n",
      "234/234 [==============================] - 2s 7ms/step - loss: 6562815.0000 - val_loss: 6384427.0000\n",
      "Epoch 37/300\n",
      "234/234 [==============================] - 2s 7ms/step - loss: 6493226.0000 - val_loss: 6332637.0000\n",
      "Epoch 38/300\n",
      "234/234 [==============================] - 2s 7ms/step - loss: 6444516.0000 - val_loss: 6288711.0000\n",
      "Epoch 39/300\n",
      "234/234 [==============================] - 2s 7ms/step - loss: 6372865.0000 - val_loss: 6222029.0000\n",
      "Epoch 40/300\n",
      "234/234 [==============================] - 2s 7ms/step - loss: 6354223.0000 - val_loss: 6334946.0000\n",
      "Epoch 41/300\n",
      "234/234 [==============================] - 2s 7ms/step - loss: 6324471.5000 - val_loss: 6147327.5000\n",
      "Epoch 42/300\n",
      "234/234 [==============================] - 2s 7ms/step - loss: 6285448.5000 - val_loss: 6094410.5000\n",
      "Epoch 43/300\n",
      "234/234 [==============================] - 2s 7ms/step - loss: 6264145.0000 - val_loss: 6082091.0000\n",
      "Epoch 44/300\n",
      "234/234 [==============================] - 2s 7ms/step - loss: 6182106.0000 - val_loss: 6062905.5000\n",
      "Epoch 45/300\n",
      "234/234 [==============================] - 2s 7ms/step - loss: 6196772.5000 - val_loss: 6022483.5000\n",
      "Epoch 46/300\n",
      "234/234 [==============================] - 2s 7ms/step - loss: 6146323.5000 - val_loss: 6133224.0000\n",
      "Epoch 47/300\n",
      "234/234 [==============================] - 2s 7ms/step - loss: 6112694.0000 - val_loss: 5969897.0000\n",
      "Epoch 48/300\n",
      "234/234 [==============================] - 2s 7ms/step - loss: 6070167.0000 - val_loss: 5959468.0000\n",
      "Epoch 49/300\n",
      "234/234 [==============================] - 2s 7ms/step - loss: 6105568.5000 - val_loss: 5926018.0000\n",
      "Epoch 50/300\n",
      "234/234 [==============================] - 2s 7ms/step - loss: 6022565.0000 - val_loss: 5893066.0000\n",
      "Epoch 51/300\n",
      "234/234 [==============================] - 2s 7ms/step - loss: 6026317.0000 - val_loss: 6037196.0000\n",
      "Epoch 52/300\n",
      "234/234 [==============================] - 2s 7ms/step - loss: 5978182.0000 - val_loss: 5823266.0000\n",
      "Epoch 53/300\n",
      "234/234 [==============================] - 2s 7ms/step - loss: 5931101.5000 - val_loss: 5816800.5000\n",
      "Epoch 54/300\n",
      "234/234 [==============================] - 2s 7ms/step - loss: 5924362.5000 - val_loss: 5783490.0000\n",
      "Epoch 55/300\n",
      "234/234 [==============================] - 2s 7ms/step - loss: 5898346.5000 - val_loss: 5775316.5000\n",
      "Epoch 56/300\n",
      "234/234 [==============================] - 2s 7ms/step - loss: 5863056.5000 - val_loss: 5871579.0000\n",
      "Epoch 57/300\n",
      "234/234 [==============================] - 2s 7ms/step - loss: 5838799.5000 - val_loss: 5708773.0000\n",
      "Epoch 58/300\n",
      "234/234 [==============================] - 2s 7ms/step - loss: 5821549.0000 - val_loss: 5710106.0000\n",
      "Epoch 59/300\n",
      "234/234 [==============================] - 2s 7ms/step - loss: 5772847.5000 - val_loss: 5988619.5000\n",
      "Epoch 60/300\n",
      "234/234 [==============================] - 2s 7ms/step - loss: 5783340.0000 - val_loss: 5712509.0000\n",
      "Epoch 61/300\n",
      "234/234 [==============================] - 2s 7ms/step - loss: 5739890.5000 - val_loss: 5616878.5000\n",
      "Epoch 62/300\n",
      "234/234 [==============================] - 2s 7ms/step - loss: 5683075.0000 - val_loss: 5618867.0000\n",
      "Epoch 63/300\n",
      "234/234 [==============================] - 2s 7ms/step - loss: 5667857.0000 - val_loss: 5667710.5000\n",
      "Epoch 64/300\n",
      "234/234 [==============================] - 2s 7ms/step - loss: 5619524.0000 - val_loss: 5596965.0000\n",
      "Epoch 65/300\n",
      "234/234 [==============================] - 2s 7ms/step - loss: 5611562.0000 - val_loss: 5599394.5000\n",
      "Epoch 66/300\n",
      "234/234 [==============================] - 2s 7ms/step - loss: 5570368.5000 - val_loss: 5508271.5000\n",
      "Epoch 67/300\n",
      "234/234 [==============================] - 2s 7ms/step - loss: 5568167.0000 - val_loss: 5514176.5000\n",
      "Epoch 68/300\n",
      "234/234 [==============================] - 2s 7ms/step - loss: 5510099.0000 - val_loss: 5462887.0000\n",
      "Epoch 69/300\n",
      "234/234 [==============================] - 2s 7ms/step - loss: 5473189.0000 - val_loss: 5549713.0000\n",
      "Epoch 70/300\n",
      "234/234 [==============================] - 2s 7ms/step - loss: 5464030.0000 - val_loss: 5455047.5000\n",
      "Epoch 71/300\n",
      "234/234 [==============================] - 2s 7ms/step - loss: 5423942.0000 - val_loss: 5516826.5000\n",
      "Epoch 72/300\n",
      "234/234 [==============================] - 2s 7ms/step - loss: 5425974.5000 - val_loss: 5573634.0000\n"
     ]
    },
    {
     "name": "stdout",
     "output_type": "stream",
     "text": [
      "Epoch 73/300\n",
      "234/234 [==============================] - 2s 7ms/step - loss: 5397030.5000 - val_loss: 5374489.0000\n",
      "Epoch 74/300\n",
      "234/234 [==============================] - 2s 7ms/step - loss: 5351343.0000 - val_loss: 5414056.5000\n",
      "Epoch 75/300\n",
      "234/234 [==============================] - 2s 7ms/step - loss: 5331757.0000 - val_loss: 5381135.5000\n",
      "Epoch 76/300\n",
      "234/234 [==============================] - 2s 7ms/step - loss: 5306182.5000 - val_loss: 5321974.5000\n",
      "Epoch 77/300\n",
      "234/234 [==============================] - 2s 7ms/step - loss: 5289028.5000 - val_loss: 5459182.0000\n",
      "Epoch 78/300\n",
      "234/234 [==============================] - 2s 7ms/step - loss: 5288125.5000 - val_loss: 5297204.0000\n",
      "Epoch 79/300\n",
      "234/234 [==============================] - 2s 7ms/step - loss: 5243391.5000 - val_loss: 5375947.0000\n",
      "Epoch 80/300\n",
      "234/234 [==============================] - 2s 7ms/step - loss: 5230299.5000 - val_loss: 5304029.5000\n",
      "Epoch 81/300\n",
      "234/234 [==============================] - 2s 7ms/step - loss: 5241181.0000 - val_loss: 5261018.0000\n",
      "Epoch 82/300\n",
      "234/234 [==============================] - 2s 7ms/step - loss: 5192765.5000 - val_loss: 5232983.0000\n",
      "Epoch 83/300\n",
      "234/234 [==============================] - 2s 7ms/step - loss: 5182485.0000 - val_loss: 5235774.5000\n",
      "Epoch 84/300\n",
      "234/234 [==============================] - 2s 7ms/step - loss: 5150436.0000 - val_loss: 5292544.5000\n",
      "Epoch 85/300\n",
      "234/234 [==============================] - 2s 7ms/step - loss: 5171084.0000 - val_loss: 5235919.0000\n",
      "Epoch 86/300\n",
      "234/234 [==============================] - 2s 7ms/step - loss: 5129093.0000 - val_loss: 5179585.0000\n",
      "Epoch 87/300\n",
      "234/234 [==============================] - 2s 7ms/step - loss: 5113589.5000 - val_loss: 5192086.0000\n",
      "Epoch 88/300\n",
      "234/234 [==============================] - 2s 6ms/step - loss: 5101040.5000 - val_loss: 5163057.5000\n",
      "Epoch 89/300\n",
      "234/234 [==============================] - 1s 6ms/step - loss: 5071793.5000 - val_loss: 5174128.0000\n",
      "Epoch 90/300\n",
      "234/234 [==============================] - 1s 6ms/step - loss: 5067360.0000 - val_loss: 5131123.5000\n",
      "Epoch 91/300\n",
      "234/234 [==============================] - 2s 6ms/step - loss: 5065201.0000 - val_loss: 5087607.0000\n",
      "Epoch 92/300\n",
      "234/234 [==============================] - 1s 6ms/step - loss: 5065897.0000 - val_loss: 5178700.5000\n",
      "Epoch 93/300\n",
      "234/234 [==============================] - 1s 6ms/step - loss: 5006264.0000 - val_loss: 5253557.5000\n",
      "Epoch 94/300\n",
      "234/234 [==============================] - 1s 6ms/step - loss: 4996985.0000 - val_loss: 5245194.0000\n",
      "Epoch 95/300\n",
      "234/234 [==============================] - 1s 6ms/step - loss: 4981362.0000 - val_loss: 5133025.0000\n",
      "Epoch 96/300\n",
      "234/234 [==============================] - 1s 6ms/step - loss: 4956419.5000 - val_loss: 5022179.0000\n",
      "Epoch 97/300\n",
      "234/234 [==============================] - 2s 6ms/step - loss: 4950186.5000 - val_loss: 4998812.5000\n",
      "Epoch 98/300\n",
      "234/234 [==============================] - 1s 6ms/step - loss: 4922454.0000 - val_loss: 5082531.0000\n",
      "Epoch 99/300\n",
      "234/234 [==============================] - 1s 6ms/step - loss: 4963422.5000 - val_loss: 4984689.0000\n",
      "Epoch 100/300\n",
      "234/234 [==============================] - 1s 6ms/step - loss: 4899158.5000 - val_loss: 4985574.0000\n",
      "Epoch 101/300\n",
      "234/234 [==============================] - 1s 6ms/step - loss: 4920620.5000 - val_loss: 5091255.0000\n",
      "Epoch 102/300\n",
      "234/234 [==============================] - 1s 6ms/step - loss: 4908475.0000 - val_loss: 5061941.5000\n",
      "Epoch 103/300\n",
      "234/234 [==============================] - 1s 6ms/step - loss: 4861439.0000 - val_loss: 4967608.5000\n",
      "Epoch 104/300\n",
      "234/234 [==============================] - 1s 6ms/step - loss: 4862592.5000 - val_loss: 4916372.5000\n",
      "Epoch 105/300\n",
      "234/234 [==============================] - 1s 6ms/step - loss: 4821809.0000 - val_loss: 4887861.5000\n",
      "Epoch 106/300\n",
      "234/234 [==============================] - 1s 6ms/step - loss: 4812119.5000 - val_loss: 4856302.0000\n",
      "Epoch 107/300\n",
      "234/234 [==============================] - 1s 6ms/step - loss: 4809160.0000 - val_loss: 4862607.5000\n",
      "Epoch 108/300\n",
      "234/234 [==============================] - 1s 6ms/step - loss: 4807196.5000 - val_loss: 5164228.0000\n",
      "Epoch 109/300\n",
      "234/234 [==============================] - 2s 6ms/step - loss: 4759066.5000 - val_loss: 4823864.0000\n",
      "Epoch 110/300\n",
      "234/234 [==============================] - 2s 6ms/step - loss: 4752590.5000 - val_loss: 4874175.0000\n",
      "Epoch 111/300\n",
      "234/234 [==============================] - 1s 6ms/step - loss: 4742100.5000 - val_loss: 4980850.0000\n",
      "Epoch 112/300\n",
      "234/234 [==============================] - 1s 6ms/step - loss: 4712832.5000 - val_loss: 4983993.5000\n",
      "Epoch 113/300\n",
      "234/234 [==============================] - 1s 6ms/step - loss: 4761998.5000 - val_loss: 4961578.0000\n",
      "Epoch 114/300\n",
      "234/234 [==============================] - 1s 6ms/step - loss: 4712440.5000 - val_loss: 4775090.0000\n",
      "Epoch 115/300\n",
      "234/234 [==============================] - 2s 7ms/step - loss: 4710041.5000 - val_loss: 4872782.0000\n",
      "Epoch 116/300\n",
      "234/234 [==============================] - 2s 6ms/step - loss: 4692446.5000 - val_loss: 4752205.5000\n",
      "Epoch 117/300\n",
      "234/234 [==============================] - 1s 6ms/step - loss: 4673106.0000 - val_loss: 4812913.0000\n",
      "Epoch 118/300\n",
      "234/234 [==============================] - 1s 6ms/step - loss: 4683941.0000 - val_loss: 4746792.5000\n",
      "Epoch 119/300\n",
      "234/234 [==============================] - 2s 6ms/step - loss: 4661209.0000 - val_loss: 4798252.0000\n",
      "Epoch 120/300\n",
      "234/234 [==============================] - 2s 6ms/step - loss: 4645360.0000 - val_loss: 4741087.5000\n",
      "Epoch 121/300\n",
      "234/234 [==============================] - 1s 6ms/step - loss: 4671548.5000 - val_loss: 4732601.0000\n",
      "Epoch 122/300\n",
      "234/234 [==============================] - 1s 6ms/step - loss: 4643822.5000 - val_loss: 4722511.0000\n",
      "Epoch 123/300\n",
      "234/234 [==============================] - 1s 6ms/step - loss: 4595437.5000 - val_loss: 4973011.0000\n",
      "Epoch 124/300\n",
      "234/234 [==============================] - 1s 6ms/step - loss: 4630969.5000 - val_loss: 4779445.0000\n",
      "Epoch 125/300\n",
      "234/234 [==============================] - 1s 6ms/step - loss: 4605795.5000 - val_loss: 4770714.0000\n",
      "Epoch 126/300\n",
      "234/234 [==============================] - 2s 7ms/step - loss: 4610649.0000 - val_loss: 4736542.5000\n",
      "Epoch 127/300\n",
      "234/234 [==============================] - 1s 6ms/step - loss: 4567778.5000 - val_loss: 4904093.5000\n",
      "Epoch 128/300\n",
      "234/234 [==============================] - 1s 6ms/step - loss: 4607959.5000 - val_loss: 4813681.5000\n",
      "Epoch 129/300\n",
      "234/234 [==============================] - 1s 6ms/step - loss: 4571462.0000 - val_loss: 4709820.5000\n",
      "Epoch 130/300\n",
      "234/234 [==============================] - 1s 6ms/step - loss: 4581113.0000 - val_loss: 4701600.5000\n",
      "Epoch 131/300\n",
      "234/234 [==============================] - 1s 6ms/step - loss: 4564544.0000 - val_loss: 4670024.5000\n",
      "Epoch 132/300\n",
      "234/234 [==============================] - 1s 6ms/step - loss: 4560259.0000 - val_loss: 4732056.0000\n",
      "Epoch 133/300\n",
      "234/234 [==============================] - 1s 6ms/step - loss: 4532079.5000 - val_loss: 4790638.5000\n",
      "Epoch 134/300\n",
      "234/234 [==============================] - 1s 6ms/step - loss: 4557466.5000 - val_loss: 4663075.5000\n",
      "Epoch 135/300\n",
      "234/234 [==============================] - 1s 6ms/step - loss: 4561052.5000 - val_loss: 4787355.5000\n",
      "Epoch 136/300\n",
      "234/234 [==============================] - 1s 6ms/step - loss: 4571592.0000 - val_loss: 4890110.0000\n",
      "Epoch 137/300\n",
      "234/234 [==============================] - 1s 6ms/step - loss: 4544916.5000 - val_loss: 4705822.5000\n",
      "Epoch 138/300\n",
      "234/234 [==============================] - 2s 6ms/step - loss: 4522612.5000 - val_loss: 4728997.0000\n",
      "Epoch 139/300\n",
      "234/234 [==============================] - 2s 6ms/step - loss: 4540498.5000 - val_loss: 4649941.0000\n",
      "Epoch 140/300\n",
      "234/234 [==============================] - 1s 6ms/step - loss: 4512543.5000 - val_loss: 4704192.0000\n",
      "Epoch 141/300\n",
      "234/234 [==============================] - 1s 6ms/step - loss: 4535124.5000 - val_loss: 4691148.0000\n",
      "Epoch 142/300\n",
      "234/234 [==============================] - 1s 6ms/step - loss: 4505378.0000 - val_loss: 4674937.5000\n",
      "Epoch 143/300\n",
      "234/234 [==============================] - 1s 6ms/step - loss: 4530320.5000 - val_loss: 4661250.0000\n",
      "Epoch 144/300\n"
     ]
    },
    {
     "name": "stdout",
     "output_type": "stream",
     "text": [
      "234/234 [==============================] - 1s 6ms/step - loss: 4498405.5000 - val_loss: 4681346.0000\n",
      "Epoch 145/300\n",
      "234/234 [==============================] - 1s 6ms/step - loss: 4502609.0000 - val_loss: 4753065.0000\n",
      "Epoch 146/300\n",
      "234/234 [==============================] - 1s 6ms/step - loss: 4504062.5000 - val_loss: 4627386.5000\n",
      "Epoch 147/300\n",
      "234/234 [==============================] - 1s 6ms/step - loss: 4500926.5000 - val_loss: 4688620.5000\n",
      "Epoch 148/300\n",
      "234/234 [==============================] - 1s 6ms/step - loss: 4504505.5000 - val_loss: 4631725.0000\n",
      "Epoch 149/300\n",
      "234/234 [==============================] - 2s 6ms/step - loss: 4510148.5000 - val_loss: 4705497.5000\n",
      "Epoch 150/300\n",
      "234/234 [==============================] - 2s 7ms/step - loss: 4539395.5000 - val_loss: 4774863.5000\n",
      "Epoch 151/300\n",
      "234/234 [==============================] - 2s 7ms/step - loss: 4493040.0000 - val_loss: 4599938.5000\n",
      "Epoch 152/300\n",
      "234/234 [==============================] - 1s 6ms/step - loss: 4473956.5000 - val_loss: 4649811.5000\n",
      "Epoch 153/300\n",
      "234/234 [==============================] - 1s 6ms/step - loss: 4461249.5000 - val_loss: 4661697.5000\n",
      "Epoch 154/300\n",
      "234/234 [==============================] - 1s 6ms/step - loss: 4447376.0000 - val_loss: 4665877.5000\n",
      "Epoch 155/300\n",
      "234/234 [==============================] - 2s 7ms/step - loss: 4469743.5000 - val_loss: 4636990.0000\n",
      "Epoch 156/300\n",
      "234/234 [==============================] - 2s 7ms/step - loss: 4447718.0000 - val_loss: 4665891.5000\n",
      "Epoch 157/300\n",
      "234/234 [==============================] - 2s 7ms/step - loss: 4438547.5000 - val_loss: 4631466.5000\n",
      "Epoch 158/300\n",
      "234/234 [==============================] - 2s 6ms/step - loss: 4437390.0000 - val_loss: 4656235.0000\n",
      "Epoch 159/300\n",
      "234/234 [==============================] - 1s 6ms/step - loss: 4465060.0000 - val_loss: 4581259.5000\n",
      "Epoch 160/300\n",
      "234/234 [==============================] - 1s 6ms/step - loss: 4416743.5000 - val_loss: 4590474.0000\n",
      "Epoch 161/300\n",
      "234/234 [==============================] - 1s 6ms/step - loss: 4438938.0000 - val_loss: 4650743.5000\n",
      "Epoch 162/300\n",
      "234/234 [==============================] - 2s 6ms/step - loss: 4452043.5000 - val_loss: 4576320.0000\n",
      "Epoch 163/300\n",
      "234/234 [==============================] - 1s 6ms/step - loss: 4416997.0000 - val_loss: 4688655.0000\n",
      "Epoch 164/300\n",
      "234/234 [==============================] - 1s 6ms/step - loss: 4415600.0000 - val_loss: 4535357.5000\n",
      "Epoch 165/300\n",
      "234/234 [==============================] - 2s 6ms/step - loss: 4414112.5000 - val_loss: 4601201.5000\n",
      "Epoch 166/300\n",
      "234/234 [==============================] - 2s 6ms/step - loss: 4423083.5000 - val_loss: 4542373.5000\n",
      "Epoch 167/300\n",
      "234/234 [==============================] - 1s 6ms/step - loss: 4389538.5000 - val_loss: 4526320.0000\n",
      "Epoch 168/300\n",
      "234/234 [==============================] - 1s 6ms/step - loss: 4380124.0000 - val_loss: 4567230.0000\n",
      "Epoch 169/300\n",
      "234/234 [==============================] - 1s 6ms/step - loss: 4392253.5000 - val_loss: 4576514.5000\n",
      "Epoch 170/300\n",
      "234/234 [==============================] - 1s 6ms/step - loss: 4351926.5000 - val_loss: 4577250.5000\n",
      "Epoch 171/300\n",
      "234/234 [==============================] - 1s 6ms/step - loss: 4394786.5000 - val_loss: 4614606.0000\n",
      "Epoch 172/300\n",
      "234/234 [==============================] - 1s 6ms/step - loss: 4335125.0000 - val_loss: 4537815.5000\n",
      "Epoch 173/300\n",
      "234/234 [==============================] - 1s 6ms/step - loss: 4358773.5000 - val_loss: 4465788.5000\n",
      "Epoch 174/300\n",
      "234/234 [==============================] - 1s 6ms/step - loss: 4351681.0000 - val_loss: 4551853.0000\n",
      "Epoch 175/300\n",
      "234/234 [==============================] - 2s 6ms/step - loss: 4343941.5000 - val_loss: 4457349.0000\n",
      "Epoch 176/300\n",
      "234/234 [==============================] - 1s 6ms/step - loss: 4320618.0000 - val_loss: 4457882.5000\n",
      "Epoch 177/300\n",
      "234/234 [==============================] - 1s 6ms/step - loss: 4339943.0000 - val_loss: 4457998.0000\n",
      "Epoch 178/300\n",
      "234/234 [==============================] - 2s 6ms/step - loss: 4324027.5000 - val_loss: 4436661.5000\n",
      "Epoch 179/300\n",
      "234/234 [==============================] - 2s 7ms/step - loss: 4319051.0000 - val_loss: 4461623.5000\n",
      "Epoch 180/300\n",
      "234/234 [==============================] - 1s 6ms/step - loss: 4313250.0000 - val_loss: 4440271.5000\n",
      "Epoch 181/300\n",
      "234/234 [==============================] - 1s 6ms/step - loss: 4307906.0000 - val_loss: 4416475.0000\n",
      "Epoch 182/300\n",
      "234/234 [==============================] - 1s 6ms/step - loss: 4296123.0000 - val_loss: 4433328.0000\n",
      "Epoch 183/300\n",
      "234/234 [==============================] - 2s 6ms/step - loss: 4304671.0000 - val_loss: 4424352.0000\n",
      "Epoch 184/300\n",
      "234/234 [==============================] - 1s 6ms/step - loss: 4338479.5000 - val_loss: 4437784.0000\n",
      "Epoch 185/300\n",
      "234/234 [==============================] - 1s 6ms/step - loss: 4286910.0000 - val_loss: 4393313.5000\n",
      "Epoch 186/300\n",
      "234/234 [==============================] - 1s 6ms/step - loss: 4291767.0000 - val_loss: 4395686.0000\n",
      "Epoch 187/300\n",
      "234/234 [==============================] - 2s 6ms/step - loss: 4274273.0000 - val_loss: 4405661.0000\n",
      "Epoch 188/300\n",
      "234/234 [==============================] - 2s 6ms/step - loss: 4259866.0000 - val_loss: 4387033.5000\n",
      "Epoch 189/300\n",
      "234/234 [==============================] - 2s 7ms/step - loss: 4266328.5000 - val_loss: 4444006.5000\n",
      "Epoch 190/300\n",
      "234/234 [==============================] - 2s 7ms/step - loss: 4283676.5000 - val_loss: 4386747.0000\n",
      "Epoch 191/300\n",
      "234/234 [==============================] - 2s 8ms/step - loss: 4264829.0000 - val_loss: 4373740.5000\n",
      "Epoch 192/300\n",
      "234/234 [==============================] - 2s 7ms/step - loss: 4260588.0000 - val_loss: 4506138.5000\n",
      "Epoch 193/300\n",
      "234/234 [==============================] - 2s 7ms/step - loss: 4268166.0000 - val_loss: 4352138.0000\n",
      "Epoch 194/300\n",
      "234/234 [==============================] - 1s 6ms/step - loss: 4256052.0000 - val_loss: 4402635.0000\n",
      "Epoch 195/300\n",
      "234/234 [==============================] - 1s 6ms/step - loss: 4254941.5000 - val_loss: 4411308.0000\n",
      "Epoch 196/300\n",
      "234/234 [==============================] - 1s 6ms/step - loss: 4275117.5000 - val_loss: 4333703.0000\n",
      "Epoch 197/300\n",
      "234/234 [==============================] - 1s 6ms/step - loss: 4260362.0000 - val_loss: 4543728.5000\n",
      "Epoch 198/300\n",
      "234/234 [==============================] - 2s 6ms/step - loss: 4252772.0000 - val_loss: 4467364.0000\n",
      "Epoch 199/300\n",
      "234/234 [==============================] - 2s 6ms/step - loss: 4230324.0000 - val_loss: 4413630.0000\n",
      "Epoch 200/300\n",
      "234/234 [==============================] - 2s 7ms/step - loss: 4250127.5000 - val_loss: 4406044.0000\n",
      "Epoch 201/300\n",
      "234/234 [==============================] - 1s 6ms/step - loss: 4240170.5000 - val_loss: 4293183.0000\n",
      "Epoch 202/300\n",
      "234/234 [==============================] - 1s 6ms/step - loss: 4253197.0000 - val_loss: 4373129.0000\n",
      "Epoch 203/300\n",
      "234/234 [==============================] - 1s 6ms/step - loss: 4217257.5000 - val_loss: 4552791.0000\n",
      "Epoch 204/300\n",
      "234/234 [==============================] - 1s 6ms/step - loss: 4243240.5000 - val_loss: 4375751.0000\n",
      "Epoch 205/300\n",
      "234/234 [==============================] - 1s 6ms/step - loss: 4266714.0000 - val_loss: 4337647.0000\n",
      "Epoch 206/300\n",
      "234/234 [==============================] - 1s 6ms/step - loss: 4230278.0000 - val_loss: 4321255.0000\n",
      "Epoch 207/300\n",
      "234/234 [==============================] - 2s 7ms/step - loss: 4240234.5000 - val_loss: 4355265.0000\n",
      "Epoch 208/300\n",
      "234/234 [==============================] - 1s 6ms/step - loss: 4212217.0000 - val_loss: 4326397.5000\n",
      "Epoch 209/300\n",
      "234/234 [==============================] - 2s 6ms/step - loss: 4185639.7500 - val_loss: 4346207.0000\n",
      "Epoch 210/300\n",
      "234/234 [==============================] - 1s 6ms/step - loss: 4215250.5000 - val_loss: 4310699.0000\n",
      "Epoch 211/300\n",
      "234/234 [==============================] - 1s 6ms/step - loss: 4209203.5000 - val_loss: 4320464.5000\n",
      "Epoch 212/300\n",
      "234/234 [==============================] - 1s 6ms/step - loss: 4212072.5000 - val_loss: 4320329.0000\n",
      "Epoch 213/300\n",
      "234/234 [==============================] - 1s 6ms/step - loss: 4195916.0000 - val_loss: 4327467.5000\n",
      "Epoch 214/300\n",
      "234/234 [==============================] - 1s 6ms/step - loss: 4223716.5000 - val_loss: 4454876.5000\n",
      "Epoch 215/300\n"
     ]
    },
    {
     "name": "stdout",
     "output_type": "stream",
     "text": [
      "234/234 [==============================] - 1s 6ms/step - loss: 4192103.2500 - val_loss: 4329473.5000\n",
      "Epoch 216/300\n",
      "234/234 [==============================] - 1s 6ms/step - loss: 4195201.0000 - val_loss: 4308864.0000\n",
      "Epoch 217/300\n",
      "234/234 [==============================] - 1s 6ms/step - loss: 4176681.5000 - val_loss: 4274216.5000\n",
      "Epoch 218/300\n",
      "234/234 [==============================] - 1s 6ms/step - loss: 4170392.5000 - val_loss: 4353923.5000\n",
      "Epoch 219/300\n",
      "234/234 [==============================] - 1s 6ms/step - loss: 4171758.0000 - val_loss: 4255607.5000\n",
      "Epoch 220/300\n",
      "234/234 [==============================] - 1s 6ms/step - loss: 4157919.2500 - val_loss: 4344093.5000\n",
      "Epoch 221/300\n",
      "234/234 [==============================] - 1s 6ms/step - loss: 4189432.2500 - val_loss: 4356089.5000\n",
      "Epoch 222/300\n",
      "234/234 [==============================] - 1s 6ms/step - loss: 4198977.5000 - val_loss: 4333391.5000\n",
      "Epoch 223/300\n",
      "234/234 [==============================] - 1s 6ms/step - loss: 4166179.2500 - val_loss: 4299050.5000\n",
      "Epoch 224/300\n",
      "234/234 [==============================] - 1s 6ms/step - loss: 4177266.2500 - val_loss: 4323250.5000\n",
      "Epoch 225/300\n",
      "234/234 [==============================] - 1s 6ms/step - loss: 4188224.2500 - val_loss: 4257759.5000\n",
      "Epoch 226/300\n",
      "234/234 [==============================] - 1s 6ms/step - loss: 4158322.2500 - val_loss: 4249212.5000\n",
      "Epoch 227/300\n",
      "234/234 [==============================] - 1s 6ms/step - loss: 4155078.0000 - val_loss: 4264248.0000\n",
      "Epoch 228/300\n",
      "234/234 [==============================] - 2s 6ms/step - loss: 4145380.5000 - val_loss: 4392890.0000\n",
      "Epoch 229/300\n",
      "234/234 [==============================] - 2s 6ms/step - loss: 4148493.5000 - val_loss: 4240999.5000\n",
      "Epoch 230/300\n",
      "234/234 [==============================] - 2s 6ms/step - loss: 4150567.7500 - val_loss: 4334793.0000\n",
      "Epoch 231/300\n",
      "234/234 [==============================] - 2s 6ms/step - loss: 4161880.7500 - val_loss: 4230784.0000\n",
      "Epoch 232/300\n",
      "234/234 [==============================] - 2s 7ms/step - loss: 4156148.7500 - val_loss: 4223127.5000\n",
      "Epoch 233/300\n",
      "234/234 [==============================] - 1s 6ms/step - loss: 4148110.7500 - val_loss: 4275196.0000\n",
      "Epoch 234/300\n",
      "234/234 [==============================] - 1s 6ms/step - loss: 4148136.0000 - val_loss: 4275935.5000\n",
      "Epoch 235/300\n",
      "234/234 [==============================] - 1s 6ms/step - loss: 4137351.5000 - val_loss: 4435628.5000\n",
      "Epoch 236/300\n",
      "234/234 [==============================] - 2s 6ms/step - loss: 4139499.5000 - val_loss: 4304005.0000\n",
      "Epoch 237/300\n",
      "234/234 [==============================] - 1s 6ms/step - loss: 4133698.7500 - val_loss: 4259563.0000\n",
      "Epoch 238/300\n",
      "234/234 [==============================] - 1s 6ms/step - loss: 4111712.7500 - val_loss: 4233617.0000\n",
      "Epoch 239/300\n",
      "234/234 [==============================] - 2s 6ms/step - loss: 4124141.0000 - val_loss: 4228540.0000\n",
      "Epoch 240/300\n",
      "234/234 [==============================] - 2s 6ms/step - loss: 4121140.2500 - val_loss: 4272786.5000\n",
      "Epoch 241/300\n",
      "234/234 [==============================] - 1s 6ms/step - loss: 4121343.7500 - val_loss: 4228179.0000\n",
      "Epoch 242/300\n",
      "234/234 [==============================] - 1s 6ms/step - loss: 4121868.0000 - val_loss: 4212907.5000\n",
      "Epoch 243/300\n",
      "234/234 [==============================] - 1s 6ms/step - loss: 4116697.0000 - val_loss: 4192174.2500\n",
      "Epoch 244/300\n",
      "234/234 [==============================] - 2s 7ms/step - loss: 4110550.7500 - val_loss: 4190092.2500\n",
      "Epoch 245/300\n",
      "234/234 [==============================] - 2s 7ms/step - loss: 4110305.0000 - val_loss: 4223472.0000\n",
      "Epoch 246/300\n",
      "234/234 [==============================] - 2s 7ms/step - loss: 4100050.5000 - val_loss: 4199038.5000\n",
      "Epoch 247/300\n",
      "234/234 [==============================] - 2s 6ms/step - loss: 4109193.0000 - val_loss: 4210183.0000\n",
      "Epoch 248/300\n",
      "234/234 [==============================] - 2s 6ms/step - loss: 4083167.5000 - val_loss: 4267819.5000\n",
      "Epoch 249/300\n",
      "234/234 [==============================] - 2s 6ms/step - loss: 4105486.2500 - val_loss: 4191378.0000\n",
      "Epoch 250/300\n",
      "234/234 [==============================] - 2s 6ms/step - loss: 4079999.7500 - val_loss: 4241933.5000\n",
      "Epoch 251/300\n",
      "234/234 [==============================] - 2s 6ms/step - loss: 4072884.2500 - val_loss: 4216679.0000\n",
      "Epoch 252/300\n",
      "234/234 [==============================] - 2s 6ms/step - loss: 4079449.7500 - val_loss: 4170253.2500\n",
      "Epoch 253/300\n",
      "234/234 [==============================] - 2s 6ms/step - loss: 4059371.0000 - val_loss: 4190757.0000\n",
      "Epoch 254/300\n",
      "234/234 [==============================] - 1s 6ms/step - loss: 4062136.7500 - val_loss: 4172584.0000\n",
      "Epoch 255/300\n",
      "234/234 [==============================] - 1s 6ms/step - loss: 4089731.0000 - val_loss: 4190923.2500\n",
      "Epoch 256/300\n",
      "234/234 [==============================] - 2s 6ms/step - loss: 4091281.5000 - val_loss: 4162303.5000\n",
      "Epoch 257/300\n",
      "234/234 [==============================] - 2s 6ms/step - loss: 4061423.0000 - val_loss: 4145026.5000\n",
      "Epoch 258/300\n",
      "234/234 [==============================] - 2s 6ms/step - loss: 4078214.2500 - val_loss: 4142125.0000\n",
      "Epoch 259/300\n",
      "234/234 [==============================] - 1s 6ms/step - loss: 4054145.5000 - val_loss: 4164375.0000\n",
      "Epoch 260/300\n",
      "234/234 [==============================] - 1s 6ms/step - loss: 4068494.2500 - val_loss: 4223111.0000\n",
      "Epoch 261/300\n",
      "234/234 [==============================] - 2s 6ms/step - loss: 4045047.5000 - val_loss: 4124013.7500\n",
      "Epoch 262/300\n",
      "234/234 [==============================] - 1s 6ms/step - loss: 4052811.0000 - val_loss: 4147397.7500\n",
      "Epoch 263/300\n",
      "234/234 [==============================] - 1s 6ms/step - loss: 4045452.2500 - val_loss: 4161017.7500\n",
      "Epoch 264/300\n",
      "234/234 [==============================] - 2s 6ms/step - loss: 4077371.2500 - val_loss: 4151131.5000\n",
      "Epoch 265/300\n",
      "234/234 [==============================] - 1s 6ms/step - loss: 4061577.5000 - val_loss: 4125662.5000\n",
      "Epoch 266/300\n",
      "234/234 [==============================] - 2s 6ms/step - loss: 4033223.5000 - val_loss: 4145529.0000\n",
      "Epoch 267/300\n",
      "234/234 [==============================] - 2s 6ms/step - loss: 4034276.7500 - val_loss: 4165512.7500\n",
      "Epoch 268/300\n",
      "234/234 [==============================] - 2s 6ms/step - loss: 4040119.5000 - val_loss: 4134703.7500\n",
      "Epoch 269/300\n",
      "234/234 [==============================] - 2s 6ms/step - loss: 4008485.7500 - val_loss: 4367628.0000\n",
      "Epoch 270/300\n",
      "234/234 [==============================] - 2s 7ms/step - loss: 4042884.5000 - val_loss: 4124009.2500\n",
      "Epoch 271/300\n",
      "234/234 [==============================] - 2s 7ms/step - loss: 3995643.2500 - val_loss: 4195287.0000\n",
      "Epoch 272/300\n",
      "234/234 [==============================] - 2s 7ms/step - loss: 4017398.5000 - val_loss: 4145431.0000\n",
      "Epoch 273/300\n",
      "234/234 [==============================] - 2s 7ms/step - loss: 4011103.0000 - val_loss: 4182171.0000\n",
      "Epoch 274/300\n",
      "234/234 [==============================] - 2s 6ms/step - loss: 4005213.0000 - val_loss: 4145810.5000\n",
      "Epoch 275/300\n",
      "234/234 [==============================] - 2s 6ms/step - loss: 4000426.5000 - val_loss: 4150955.0000\n",
      "Epoch 276/300\n",
      "234/234 [==============================] - 2s 7ms/step - loss: 4004363.5000 - val_loss: 4144741.0000\n",
      "Epoch 277/300\n",
      "234/234 [==============================] - 2s 7ms/step - loss: 4005466.7500 - val_loss: 4096459.7500\n",
      "Epoch 278/300\n",
      "234/234 [==============================] - 2s 7ms/step - loss: 3997732.7500 - val_loss: 4106263.2500\n",
      "Epoch 279/300\n",
      "234/234 [==============================] - 2s 7ms/step - loss: 4002951.5000 - val_loss: 4094792.0000\n",
      "Epoch 280/300\n",
      "234/234 [==============================] - 2s 7ms/step - loss: 3975549.2500 - val_loss: 4121869.0000\n",
      "Epoch 281/300\n",
      "234/234 [==============================] - 2s 7ms/step - loss: 3989353.7500 - val_loss: 4120417.2500\n",
      "Epoch 282/300\n",
      "234/234 [==============================] - 2s 7ms/step - loss: 3993448.0000 - val_loss: 4137912.7500\n",
      "Epoch 283/300\n",
      "234/234 [==============================] - 2s 7ms/step - loss: 3961587.5000 - val_loss: 4119028.7500\n",
      "Epoch 284/300\n",
      "234/234 [==============================] - 2s 9ms/step - loss: 3959185.7500 - val_loss: 4325230.0000\n",
      "Epoch 285/300\n",
      "234/234 [==============================] - 2s 7ms/step - loss: 3980897.7500 - val_loss: 4110263.7500\n",
      "Epoch 286/300\n"
     ]
    },
    {
     "name": "stdout",
     "output_type": "stream",
     "text": [
      "234/234 [==============================] - 2s 8ms/step - loss: 3955922.7500 - val_loss: 4125842.2500\n",
      "Epoch 287/300\n",
      "234/234 [==============================] - 2s 10ms/step - loss: 3948049.2500 - val_loss: 4074336.2500\n",
      "Epoch 288/300\n",
      "234/234 [==============================] - 2s 10ms/step - loss: 3974253.0000 - val_loss: 4114538.0000\n",
      "Epoch 289/300\n",
      "234/234 [==============================] - 2s 10ms/step - loss: 3957202.0000 - val_loss: 4048769.2500\n",
      "Epoch 290/300\n",
      "234/234 [==============================] - 2s 8ms/step - loss: 3948086.2500 - val_loss: 4075137.2500\n",
      "Epoch 291/300\n",
      "234/234 [==============================] - 2s 7ms/step - loss: 3943836.2500 - val_loss: 4303212.5000\n",
      "Epoch 292/300\n",
      "234/234 [==============================] - 2s 8ms/step - loss: 3966032.5000 - val_loss: 4079871.2500\n",
      "Epoch 293/300\n",
      "234/234 [==============================] - 2s 8ms/step - loss: 3947118.5000 - val_loss: 4136461.0000\n",
      "Epoch 294/300\n",
      "234/234 [==============================] - 2s 7ms/step - loss: 3930126.5000 - val_loss: 4101773.7500\n",
      "Epoch 295/300\n",
      "234/234 [==============================] - 2s 6ms/step - loss: 3953893.0000 - val_loss: 4070215.2500\n",
      "Epoch 296/300\n",
      "234/234 [==============================] - 2s 6ms/step - loss: 3901534.7500 - val_loss: 4079965.2500\n",
      "Epoch 297/300\n",
      "234/234 [==============================] - 2s 6ms/step - loss: 3932106.5000 - val_loss: 4068854.2500\n",
      "Epoch 298/300\n",
      "234/234 [==============================] - 2s 7ms/step - loss: 3891769.0000 - val_loss: 4149441.0000\n",
      "Epoch 299/300\n",
      "234/234 [==============================] - 1s 6ms/step - loss: 3928476.5000 - val_loss: 4098561.5000\n",
      "Epoch 300/300\n",
      "234/234 [==============================] - 1s 6ms/step - loss: 3879997.0000 - val_loss: 4135240.2500\n"
     ]
    },
    {
     "data": {
      "text/plain": [
       "<keras.callbacks.History at 0x22f04c890a0>"
      ]
     },
     "execution_count": 77,
     "metadata": {},
     "output_type": "execute_result"
    }
   ],
   "source": [
    "model_nn.fit(x=X_train_scaled,y=y_train,validation_data=(X_test_scaled,y_test),epochs=300,batch_size=32,callbacks=[early_stop])"
   ]
  },
  {
   "cell_type": "code",
   "execution_count": 78,
   "id": "e1861db4",
   "metadata": {},
   "outputs": [],
   "source": [
    "losses=pd.DataFrame(model_nn.history.history)"
   ]
  },
  {
   "cell_type": "code",
   "execution_count": 79,
   "id": "eeb2c58a",
   "metadata": {},
   "outputs": [
    {
     "data": {
      "text/plain": [
       "<AxesSubplot:>"
      ]
     },
     "execution_count": 79,
     "metadata": {},
     "output_type": "execute_result"
    },
    {
     "data": {
      "image/png": "[encoded data removed]",
      "text/plain": [
       "<Figure size 432x288 with 1 Axes>"
      ]
     },
     "metadata": {
      "needs_background": "light"
     },
     "output_type": "display_data"
    }
   ],
   "source": [
    "losses.plot()"
   ]
  },
  {
   "cell_type": "code",
   "execution_count": 80,
   "id": "c6385774",
   "metadata": {},
   "outputs": [],
   "source": [
    "predictions_nn=model_nn.predict(X_test_scaled)"
   ]
  },
  {
   "cell_type": "code",
   "execution_count": 81,
   "id": "d0438cf6",
   "metadata": {},
   "outputs": [
    {
     "name": "stdout",
     "output_type": "stream",
     "text": [
      "MAE:  1452.7866905652788\n",
      "MSE:  4135239.295286358\n",
      "RMSE:  2033.528779065189\n",
      "Explained Variance Score:  0.7864904169742226\n"
     ]
    }
   ],
   "source": [
    "metrics(y_test,predictions_nn)"
   ]
  },
  {
   "cell_type": "code",
   "execution_count": 82,
   "id": "cd01ff77",
   "metadata": {},
   "outputs": [],
   "source": [
    "predictions_nn=predictions_nn.reshape((3205,))"
   ]
  },
  {
   "cell_type": "code",
   "execution_count": 83,
   "id": "27a00f13",
   "metadata": {},
   "outputs": [
    {
     "data": {
      "text/plain": [
       "83.66545869127935"
      ]
     },
     "execution_count": 83,
     "metadata": {},
     "output_type": "execute_result"
    }
   ],
   "source": [
    "accuracy(y_test,predictions_nn)"
   ]
  },
  {
   "cell_type": "markdown",
   "id": "f77efb0f",
   "metadata": {},
   "source": [
    "**From the graph we can see that we could have trained the model further without overfitting. So let's increase the number of epochs and train the model.**"
   ]
  },
  {
   "cell_type": "code",
   "execution_count": 84,
   "id": "ec3f5c5b",
   "metadata": {},
   "outputs": [],
   "source": [
    "model_nn=Sequential()\n",
    "\n",
    "model_nn.add(Dense(34,activation='relu'))\n",
    "model_nn.add(Dense(34,activation='relu'))\n",
    "model_nn.add(Dense(34,activation='relu'))\n",
    "model_nn.add(Dense(34,activation='relu'))\n",
    "model_nn.add(Dense(1))\n",
    "\n",
    "model_nn.compile(optimizer='adam',loss='mse')"
   ]
  },
  {
   "cell_type": "code",
   "execution_count": 85,
   "id": "4c072bc5",
   "metadata": {},
   "outputs": [],
   "source": [
    "early_stop=EarlyStopping(monitor='val_loss',mode='min',patience=20,verbose=1)"
   ]
  },
  {
   "cell_type": "code",
   "execution_count": 86,
   "id": "d6135c21",
   "metadata": {},
   "outputs": [
    {
     "name": "stdout",
     "output_type": "stream",
     "text": [
      "Epoch 1/500\n",
      "234/234 [==============================] - 2s 7ms/step - loss: 63889364.0000 - val_loss: 15999122.0000\n",
      "Epoch 2/500\n",
      "234/234 [==============================] - 2s 7ms/step - loss: 12721538.0000 - val_loss: 9910053.0000\n",
      "Epoch 3/500\n",
      "234/234 [==============================] - 2s 7ms/step - loss: 9263030.0000 - val_loss: 8306451.0000\n",
      "Epoch 4/500\n",
      "234/234 [==============================] - 2s 7ms/step - loss: 8402468.0000 - val_loss: 7779826.5000\n",
      "Epoch 5/500\n",
      "234/234 [==============================] - 2s 7ms/step - loss: 7998740.0000 - val_loss: 7521478.5000\n",
      "Epoch 6/500\n",
      "234/234 [==============================] - 2s 7ms/step - loss: 7799485.5000 - val_loss: 7594534.0000\n",
      "Epoch 7/500\n",
      "234/234 [==============================] - 2s 7ms/step - loss: 7701126.5000 - val_loss: 7284532.0000\n",
      "Epoch 8/500\n",
      "234/234 [==============================] - 2s 7ms/step - loss: 7540649.0000 - val_loss: 7235089.5000\n",
      "Epoch 9/500\n",
      "234/234 [==============================] - 2s 7ms/step - loss: 7493091.0000 - val_loss: 7232745.0000\n",
      "Epoch 10/500\n",
      "234/234 [==============================] - 2s 7ms/step - loss: 7440856.0000 - val_loss: 7126548.5000\n",
      "Epoch 11/500\n",
      "234/234 [==============================] - 2s 7ms/step - loss: 7414708.5000 - val_loss: 7094575.5000\n",
      "Epoch 12/500\n",
      "234/234 [==============================] - 2s 7ms/step - loss: 7381651.5000 - val_loss: 7130612.5000\n",
      "Epoch 13/500\n",
      "234/234 [==============================] - 2s 7ms/step - loss: 7358107.0000 - val_loss: 7070227.0000\n",
      "Epoch 14/500\n",
      "234/234 [==============================] - 2s 7ms/step - loss: 7351587.5000 - val_loss: 7057774.0000\n",
      "Epoch 15/500\n",
      "234/234 [==============================] - 2s 8ms/step - loss: 7338405.5000 - val_loss: 7072654.5000\n",
      "Epoch 16/500\n",
      "234/234 [==============================] - 2s 8ms/step - loss: 7322682.0000 - val_loss: 7049143.0000\n",
      "Epoch 17/500\n",
      "234/234 [==============================] - 2s 8ms/step - loss: 7292611.5000 - val_loss: 7071999.0000\n",
      "Epoch 18/500\n",
      "234/234 [==============================] - 2s 7ms/step - loss: 7290142.0000 - val_loss: 7028798.0000\n",
      "Epoch 19/500\n",
      "234/234 [==============================] - 2s 7ms/step - loss: 7291974.0000 - val_loss: 7067204.5000\n",
      "Epoch 20/500\n",
      "234/234 [==============================] - 2s 7ms/step - loss: 7270216.0000 - val_loss: 7016589.0000\n",
      "Epoch 21/500\n",
      "234/234 [==============================] - 2s 8ms/step - loss: 7269834.0000 - val_loss: 7016695.5000\n",
      "Epoch 22/500\n",
      "234/234 [==============================] - 2s 7ms/step - loss: 7261723.0000 - val_loss: 7012940.5000\n",
      "Epoch 23/500\n",
      "234/234 [==============================] - 1s 6ms/step - loss: 7218397.5000 - val_loss: 7075682.0000\n",
      "Epoch 24/500\n",
      "234/234 [==============================] - 2s 7ms/step - loss: 7209114.5000 - val_loss: 6963948.5000\n",
      "Epoch 25/500\n",
      "234/234 [==============================] - 2s 8ms/step - loss: 7182094.0000 - val_loss: 6974805.5000\n",
      "Epoch 26/500\n",
      "234/234 [==============================] - 2s 7ms/step - loss: 7156965.5000 - val_loss: 6916280.0000\n",
      "Epoch 27/500\n",
      "234/234 [==============================] - 2s 7ms/step - loss: 7106626.5000 - val_loss: 6922175.5000\n",
      "Epoch 28/500\n",
      "234/234 [==============================] - 2s 6ms/step - loss: 7066638.0000 - val_loss: 6852049.0000\n",
      "Epoch 29/500\n",
      "234/234 [==============================] - 2s 7ms/step - loss: 7018394.0000 - val_loss: 6779008.5000\n",
      "Epoch 30/500\n",
      "234/234 [==============================] - 2s 7ms/step - loss: 6989157.0000 - val_loss: 6740395.0000\n",
      "Epoch 31/500\n",
      "234/234 [==============================] - 2s 6ms/step - loss: 6974962.0000 - val_loss: 6691627.5000\n",
      "Epoch 32/500\n",
      "234/234 [==============================] - 2s 6ms/step - loss: 6881565.5000 - val_loss: 6645225.0000\n",
      "Epoch 33/500\n",
      "234/234 [==============================] - 2s 7ms/step - loss: 6858029.5000 - val_loss: 6621277.5000\n",
      "Epoch 34/500\n",
      "234/234 [==============================] - 2s 6ms/step - loss: 6777725.0000 - val_loss: 6636497.5000\n",
      "Epoch 35/500\n",
      "234/234 [==============================] - 2s 6ms/step - loss: 6754416.0000 - val_loss: 6606836.5000\n",
      "Epoch 36/500\n",
      "234/234 [==============================] - 2s 6ms/step - loss: 6661468.5000 - val_loss: 6445112.0000\n",
      "Epoch 37/500\n",
      "234/234 [==============================] - 2s 6ms/step - loss: 6605505.5000 - val_loss: 6417535.0000\n",
      "Epoch 38/500\n",
      "234/234 [==============================] - 2s 6ms/step - loss: 6551965.5000 - val_loss: 6364958.0000\n",
      "Epoch 39/500\n",
      "234/234 [==============================] - 2s 6ms/step - loss: 6487869.0000 - val_loss: 6283654.5000\n",
      "Epoch 40/500\n",
      "234/234 [==============================] - 2s 6ms/step - loss: 6424495.0000 - val_loss: 6498652.5000\n",
      "Epoch 41/500\n",
      "234/234 [==============================] - 2s 6ms/step - loss: 6366610.5000 - val_loss: 6361250.5000\n",
      "Epoch 42/500\n",
      "234/234 [==============================] - 2s 6ms/step - loss: 6327901.5000 - val_loss: 6099884.0000\n",
      "Epoch 43/500\n",
      "234/234 [==============================] - 2s 7ms/step - loss: 6254745.5000 - val_loss: 6054794.5000\n",
      "Epoch 44/500\n",
      "234/234 [==============================] - 2s 6ms/step - loss: 6189002.5000 - val_loss: 6011841.5000\n",
      "Epoch 45/500\n",
      "234/234 [==============================] - 2s 6ms/step - loss: 6130267.5000 - val_loss: 5972910.0000\n",
      "Epoch 46/500\n",
      "234/234 [==============================] - 2s 6ms/step - loss: 6088653.0000 - val_loss: 5955650.5000\n",
      "Epoch 47/500\n",
      "234/234 [==============================] - 2s 6ms/step - loss: 6063750.5000 - val_loss: 5953607.0000\n",
      "Epoch 48/500\n",
      "234/234 [==============================] - 2s 7ms/step - loss: 6016359.0000 - val_loss: 5886350.5000\n",
      "Epoch 49/500\n",
      "234/234 [==============================] - 2s 6ms/step - loss: 5972042.0000 - val_loss: 5845939.5000\n",
      "Epoch 50/500\n",
      "234/234 [==============================] - 2s 7ms/step - loss: 5949019.5000 - val_loss: 5962065.0000\n",
      "Epoch 51/500\n",
      "234/234 [==============================] - 2s 7ms/step - loss: 5913535.5000 - val_loss: 5739048.5000\n",
      "Epoch 52/500\n",
      "234/234 [==============================] - 2s 6ms/step - loss: 5853972.0000 - val_loss: 5842999.5000\n",
      "Epoch 53/500\n",
      "234/234 [==============================] - 2s 6ms/step - loss: 5815994.0000 - val_loss: 5718032.0000\n",
      "Epoch 54/500\n",
      "234/234 [==============================] - 1s 6ms/step - loss: 5777731.5000 - val_loss: 5855469.0000\n",
      "Epoch 55/500\n",
      "234/234 [==============================] - 2s 6ms/step - loss: 5758152.5000 - val_loss: 5691919.0000\n",
      "Epoch 56/500\n",
      "234/234 [==============================] - 2s 6ms/step - loss: 5726694.0000 - val_loss: 5583631.0000\n",
      "Epoch 57/500\n",
      "234/234 [==============================] - 2s 6ms/step - loss: 5668482.5000 - val_loss: 5623378.5000\n",
      "Epoch 58/500\n",
      "234/234 [==============================] - 1s 6ms/step - loss: 5642109.0000 - val_loss: 5556883.5000\n",
      "Epoch 59/500\n",
      "234/234 [==============================] - 1s 6ms/step - loss: 5609911.5000 - val_loss: 5497847.5000\n",
      "Epoch 60/500\n",
      "234/234 [==============================] - 2s 6ms/step - loss: 5576574.0000 - val_loss: 5470591.0000\n",
      "Epoch 61/500\n",
      "234/234 [==============================] - 1s 6ms/step - loss: 5573011.5000 - val_loss: 5522483.5000\n",
      "Epoch 62/500\n",
      "234/234 [==============================] - 2s 6ms/step - loss: 5530958.5000 - val_loss: 5406305.5000\n",
      "Epoch 63/500\n",
      "234/234 [==============================] - 2s 6ms/step - loss: 5484063.0000 - val_loss: 5356870.5000\n",
      "Epoch 64/500\n",
      "234/234 [==============================] - 1s 6ms/step - loss: 5438742.5000 - val_loss: 5377869.5000\n",
      "Epoch 65/500\n",
      "234/234 [==============================] - 2s 6ms/step - loss: 5411284.5000 - val_loss: 5413206.0000\n",
      "Epoch 66/500\n",
      "234/234 [==============================] - 1s 6ms/step - loss: 5386552.5000 - val_loss: 5291143.0000\n",
      "Epoch 67/500\n",
      "234/234 [==============================] - 1s 6ms/step - loss: 5338627.0000 - val_loss: 5247578.5000\n",
      "Epoch 68/500\n",
      "234/234 [==============================] - 2s 6ms/step - loss: 5284909.5000 - val_loss: 5469639.5000\n",
      "Epoch 69/500\n",
      "234/234 [==============================] - 2s 7ms/step - loss: 5263067.0000 - val_loss: 5207506.0000\n",
      "Epoch 70/500\n",
      "234/234 [==============================] - 2s 6ms/step - loss: 5194715.0000 - val_loss: 5161985.0000\n",
      "Epoch 71/500\n",
      "234/234 [==============================] - 1s 6ms/step - loss: 5181850.0000 - val_loss: 5100641.5000\n",
      "Epoch 72/500\n",
      "234/234 [==============================] - 1s 6ms/step - loss: 5151428.5000 - val_loss: 5109999.0000\n"
     ]
    },
    {
     "name": "stdout",
     "output_type": "stream",
     "text": [
      "Epoch 73/500\n",
      "234/234 [==============================] - 1s 6ms/step - loss: 5085558.0000 - val_loss: 5067240.5000\n",
      "Epoch 74/500\n",
      "234/234 [==============================] - 1s 6ms/step - loss: 5066624.5000 - val_loss: 5028964.5000\n",
      "Epoch 75/500\n",
      "234/234 [==============================] - 1s 6ms/step - loss: 5027120.5000 - val_loss: 5029497.0000\n",
      "Epoch 76/500\n",
      "234/234 [==============================] - 1s 6ms/step - loss: 4991919.5000 - val_loss: 5051335.5000\n",
      "Epoch 77/500\n",
      "234/234 [==============================] - 1s 6ms/step - loss: 4934143.0000 - val_loss: 4987224.0000\n",
      "Epoch 78/500\n",
      "234/234 [==============================] - 1s 6ms/step - loss: 4945532.0000 - val_loss: 4968602.5000\n",
      "Epoch 79/500\n",
      "234/234 [==============================] - 1s 6ms/step - loss: 4908898.0000 - val_loss: 4931260.0000\n",
      "Epoch 80/500\n",
      "234/234 [==============================] - 1s 6ms/step - loss: 4913507.5000 - val_loss: 4977107.5000\n",
      "Epoch 81/500\n",
      "234/234 [==============================] - 1s 6ms/step - loss: 4910379.0000 - val_loss: 4920769.0000\n",
      "Epoch 82/500\n",
      "234/234 [==============================] - 2s 6ms/step - loss: 4853464.5000 - val_loss: 4890900.5000\n",
      "Epoch 83/500\n",
      "234/234 [==============================] - 2s 6ms/step - loss: 4862603.5000 - val_loss: 4919475.0000\n",
      "Epoch 84/500\n",
      "234/234 [==============================] - 1s 6ms/step - loss: 4843002.0000 - val_loss: 4864532.0000\n",
      "Epoch 85/500\n",
      "234/234 [==============================] - 2s 7ms/step - loss: 4832100.5000 - val_loss: 4843493.5000\n",
      "Epoch 86/500\n",
      "234/234 [==============================] - 1s 6ms/step - loss: 4804107.5000 - val_loss: 4986848.5000\n",
      "Epoch 87/500\n",
      "234/234 [==============================] - 1s 6ms/step - loss: 4791955.0000 - val_loss: 4839881.0000\n",
      "Epoch 88/500\n",
      "234/234 [==============================] - 1s 6ms/step - loss: 4792882.5000 - val_loss: 4815173.5000\n",
      "Epoch 89/500\n",
      "234/234 [==============================] - 1s 6ms/step - loss: 4769046.0000 - val_loss: 4823897.0000\n",
      "Epoch 90/500\n",
      "234/234 [==============================] - 1s 6ms/step - loss: 4759635.5000 - val_loss: 4774174.0000\n",
      "Epoch 91/500\n",
      "234/234 [==============================] - 1s 6ms/step - loss: 4770431.0000 - val_loss: 4799472.0000\n",
      "Epoch 92/500\n",
      "234/234 [==============================] - 1s 6ms/step - loss: 4732077.0000 - val_loss: 4989541.0000\n",
      "Epoch 93/500\n",
      "234/234 [==============================] - 1s 6ms/step - loss: 4692877.5000 - val_loss: 4753029.5000\n",
      "Epoch 94/500\n",
      "234/234 [==============================] - 1s 6ms/step - loss: 4698347.5000 - val_loss: 4765028.0000\n",
      "Epoch 95/500\n",
      "234/234 [==============================] - 1s 6ms/step - loss: 4683255.5000 - val_loss: 4759918.0000\n",
      "Epoch 96/500\n",
      "234/234 [==============================] - 2s 6ms/step - loss: 4689061.0000 - val_loss: 5038918.5000\n",
      "Epoch 97/500\n",
      "234/234 [==============================] - 2s 6ms/step - loss: 4657840.5000 - val_loss: 4839121.0000\n",
      "Epoch 98/500\n",
      "234/234 [==============================] - 1s 6ms/step - loss: 4655396.5000 - val_loss: 4808643.0000\n",
      "Epoch 99/500\n",
      "234/234 [==============================] - 1s 6ms/step - loss: 4647383.5000 - val_loss: 4776475.5000\n",
      "Epoch 100/500\n",
      "234/234 [==============================] - 2s 6ms/step - loss: 4631290.5000 - val_loss: 5029936.5000\n",
      "Epoch 101/500\n",
      "234/234 [==============================] - 2s 6ms/step - loss: 4649344.5000 - val_loss: 4709604.0000\n",
      "Epoch 102/500\n",
      "234/234 [==============================] - 2s 6ms/step - loss: 4608916.5000 - val_loss: 4703146.5000\n",
      "Epoch 103/500\n",
      "234/234 [==============================] - 1s 6ms/step - loss: 4586268.0000 - val_loss: 4666904.0000\n",
      "Epoch 104/500\n",
      "234/234 [==============================] - 1s 6ms/step - loss: 4598738.0000 - val_loss: 4694622.5000\n",
      "Epoch 105/500\n",
      "234/234 [==============================] - 1s 6ms/step - loss: 4578247.5000 - val_loss: 4713647.0000\n",
      "Epoch 106/500\n",
      "234/234 [==============================] - 1s 6ms/step - loss: 4580011.5000 - val_loss: 4673271.0000\n",
      "Epoch 107/500\n",
      "234/234 [==============================] - 1s 6ms/step - loss: 4546179.0000 - val_loss: 4621200.0000\n",
      "Epoch 108/500\n",
      "234/234 [==============================] - 1s 6ms/step - loss: 4542373.5000 - val_loss: 4621341.0000\n",
      "Epoch 109/500\n",
      "234/234 [==============================] - 1s 6ms/step - loss: 4538569.5000 - val_loss: 4653563.5000\n",
      "Epoch 110/500\n",
      "234/234 [==============================] - 1s 6ms/step - loss: 4573434.0000 - val_loss: 4642681.0000\n",
      "Epoch 111/500\n",
      "234/234 [==============================] - 1s 6ms/step - loss: 4540154.5000 - val_loss: 4654540.5000\n",
      "Epoch 112/500\n",
      "234/234 [==============================] - 1s 6ms/step - loss: 4499336.0000 - val_loss: 4634070.5000\n",
      "Epoch 113/500\n",
      "234/234 [==============================] - 2s 6ms/step - loss: 4523271.5000 - val_loss: 4609239.5000\n",
      "Epoch 114/500\n",
      "234/234 [==============================] - 1s 6ms/step - loss: 4500106.5000 - val_loss: 4684237.0000\n",
      "Epoch 115/500\n",
      "234/234 [==============================] - 1s 6ms/step - loss: 4501894.0000 - val_loss: 4820473.0000\n",
      "Epoch 116/500\n",
      "234/234 [==============================] - 1s 6ms/step - loss: 4518956.0000 - val_loss: 4631394.0000\n",
      "Epoch 117/500\n",
      "234/234 [==============================] - 2s 7ms/step - loss: 4484428.0000 - val_loss: 4582271.0000\n",
      "Epoch 118/500\n",
      "234/234 [==============================] - 2s 7ms/step - loss: 4483712.5000 - val_loss: 4578662.0000\n",
      "Epoch 119/500\n",
      "234/234 [==============================] - 1s 6ms/step - loss: 4478702.5000 - val_loss: 4534883.0000\n",
      "Epoch 120/500\n",
      "234/234 [==============================] - 1s 6ms/step - loss: 4435846.0000 - val_loss: 4590290.0000\n",
      "Epoch 121/500\n",
      "234/234 [==============================] - 2s 6ms/step - loss: 4464999.5000 - val_loss: 4552748.0000\n",
      "Epoch 122/500\n",
      "234/234 [==============================] - 1s 6ms/step - loss: 4442674.0000 - val_loss: 4660108.5000\n",
      "Epoch 123/500\n",
      "234/234 [==============================] - 1s 6ms/step - loss: 4442041.5000 - val_loss: 4556830.5000\n",
      "Epoch 124/500\n",
      "234/234 [==============================] - 1s 6ms/step - loss: 4424106.0000 - val_loss: 4580552.5000\n",
      "Epoch 125/500\n",
      "234/234 [==============================] - 1s 6ms/step - loss: 4442271.0000 - val_loss: 4592978.0000\n",
      "Epoch 126/500\n",
      "234/234 [==============================] - 1s 6ms/step - loss: 4406968.0000 - val_loss: 4961264.5000\n",
      "Epoch 127/500\n",
      "234/234 [==============================] - 1s 6ms/step - loss: 4414403.0000 - val_loss: 4626382.0000\n",
      "Epoch 128/500\n",
      "234/234 [==============================] - 1s 6ms/step - loss: 4380159.0000 - val_loss: 4513259.5000\n",
      "Epoch 129/500\n",
      "234/234 [==============================] - 1s 6ms/step - loss: 4382655.5000 - val_loss: 4512882.5000\n",
      "Epoch 130/500\n",
      "234/234 [==============================] - 2s 7ms/step - loss: 4377911.5000 - val_loss: 4684352.5000\n",
      "Epoch 131/500\n",
      "234/234 [==============================] - 1s 6ms/step - loss: 4372104.0000 - val_loss: 4461251.5000\n",
      "Epoch 132/500\n",
      "234/234 [==============================] - 2s 6ms/step - loss: 4381544.5000 - val_loss: 4577449.5000\n",
      "Epoch 133/500\n",
      "234/234 [==============================] - 2s 6ms/step - loss: 4349369.5000 - val_loss: 4466376.0000\n",
      "Epoch 134/500\n",
      "234/234 [==============================] - 1s 6ms/step - loss: 4359157.0000 - val_loss: 4489295.0000\n",
      "Epoch 135/500\n",
      "234/234 [==============================] - 1s 6ms/step - loss: 4339256.0000 - val_loss: 4424181.0000\n",
      "Epoch 136/500\n",
      "234/234 [==============================] - 1s 6ms/step - loss: 4372533.5000 - val_loss: 4432794.0000\n",
      "Epoch 137/500\n",
      "234/234 [==============================] - 1s 6ms/step - loss: 4323215.0000 - val_loss: 4441048.0000\n",
      "Epoch 138/500\n",
      "234/234 [==============================] - 2s 6ms/step - loss: 4317052.5000 - val_loss: 4505080.0000\n",
      "Epoch 139/500\n",
      "234/234 [==============================] - 2s 7ms/step - loss: 4314338.0000 - val_loss: 4389730.0000\n",
      "Epoch 140/500\n",
      "234/234 [==============================] - 2s 6ms/step - loss: 4292472.5000 - val_loss: 4644087.5000\n",
      "Epoch 141/500\n",
      "234/234 [==============================] - 1s 6ms/step - loss: 4311765.0000 - val_loss: 4414126.5000\n",
      "Epoch 142/500\n",
      "234/234 [==============================] - 1s 6ms/step - loss: 4327020.0000 - val_loss: 4427430.5000\n",
      "Epoch 143/500\n",
      "234/234 [==============================] - 1s 6ms/step - loss: 4281910.5000 - val_loss: 4363818.0000\n",
      "Epoch 144/500\n"
     ]
    },
    {
     "name": "stdout",
     "output_type": "stream",
     "text": [
      "234/234 [==============================] - 1s 6ms/step - loss: 4260504.5000 - val_loss: 4374264.0000\n",
      "Epoch 145/500\n",
      "234/234 [==============================] - 1s 6ms/step - loss: 4288020.5000 - val_loss: 4341319.5000\n",
      "Epoch 146/500\n",
      "234/234 [==============================] - 1s 6ms/step - loss: 4299562.5000 - val_loss: 4576099.5000\n",
      "Epoch 147/500\n",
      "234/234 [==============================] - 1s 6ms/step - loss: 4267068.0000 - val_loss: 4353316.0000\n",
      "Epoch 148/500\n",
      "234/234 [==============================] - 1s 6ms/step - loss: 4238631.5000 - val_loss: 4338193.0000\n",
      "Epoch 149/500\n",
      "234/234 [==============================] - 1s 6ms/step - loss: 4247029.0000 - val_loss: 4345696.5000\n",
      "Epoch 150/500\n",
      "234/234 [==============================] - 1s 6ms/step - loss: 4255468.5000 - val_loss: 4341140.0000\n",
      "Epoch 151/500\n",
      "234/234 [==============================] - 2s 6ms/step - loss: 4255626.0000 - val_loss: 4323999.0000\n",
      "Epoch 152/500\n",
      "234/234 [==============================] - 1s 6ms/step - loss: 4228896.5000 - val_loss: 4358229.0000\n",
      "Epoch 153/500\n",
      "234/234 [==============================] - 1s 6ms/step - loss: 4220824.0000 - val_loss: 4308012.5000\n",
      "Epoch 154/500\n",
      "234/234 [==============================] - 1s 6ms/step - loss: 4212286.5000 - val_loss: 4287061.0000\n",
      "Epoch 155/500\n",
      "234/234 [==============================] - 2s 6ms/step - loss: 4240063.5000 - val_loss: 4304402.0000\n",
      "Epoch 156/500\n",
      "234/234 [==============================] - 2s 6ms/step - loss: 4217601.0000 - val_loss: 4331392.0000\n",
      "Epoch 157/500\n",
      "234/234 [==============================] - 2s 7ms/step - loss: 4194227.5000 - val_loss: 4268375.0000\n",
      "Epoch 158/500\n",
      "234/234 [==============================] - 2s 6ms/step - loss: 4217464.5000 - val_loss: 4323308.0000\n",
      "Epoch 159/500\n",
      "234/234 [==============================] - 1s 6ms/step - loss: 4214337.5000 - val_loss: 4257715.5000\n",
      "Epoch 160/500\n",
      "234/234 [==============================] - 1s 6ms/step - loss: 4192432.5000 - val_loss: 4678044.5000\n",
      "Epoch 161/500\n",
      "234/234 [==============================] - 1s 6ms/step - loss: 4213426.5000 - val_loss: 4468826.0000\n",
      "Epoch 162/500\n",
      "234/234 [==============================] - 1s 6ms/step - loss: 4194333.0000 - val_loss: 4360715.5000\n",
      "Epoch 163/500\n",
      "234/234 [==============================] - 1s 6ms/step - loss: 4207546.5000 - val_loss: 4274049.0000\n",
      "Epoch 164/500\n",
      "234/234 [==============================] - 1s 6ms/step - loss: 4197801.5000 - val_loss: 4270411.5000\n",
      "Epoch 165/500\n",
      "234/234 [==============================] - 1s 6ms/step - loss: 4179589.2500 - val_loss: 4260331.0000\n",
      "Epoch 166/500\n",
      "234/234 [==============================] - 2s 7ms/step - loss: 4185775.0000 - val_loss: 4252561.0000\n",
      "Epoch 167/500\n",
      "234/234 [==============================] - 2s 7ms/step - loss: 4162036.0000 - val_loss: 4372856.5000\n",
      "Epoch 168/500\n",
      "234/234 [==============================] - 1s 6ms/step - loss: 4185130.7500 - val_loss: 4236113.0000\n",
      "Epoch 169/500\n",
      "234/234 [==============================] - 1s 6ms/step - loss: 4180672.0000 - val_loss: 4237298.5000\n",
      "Epoch 170/500\n",
      "234/234 [==============================] - 1s 6ms/step - loss: 4187962.0000 - val_loss: 4284625.5000\n",
      "Epoch 171/500\n",
      "234/234 [==============================] - 1s 6ms/step - loss: 4209013.5000 - val_loss: 4473041.0000\n",
      "Epoch 172/500\n",
      "234/234 [==============================] - 1s 6ms/step - loss: 4202253.0000 - val_loss: 4249605.0000\n",
      "Epoch 173/500\n",
      "234/234 [==============================] - 2s 6ms/step - loss: 4177847.5000 - val_loss: 4243901.0000\n",
      "Epoch 174/500\n",
      "234/234 [==============================] - 1s 6ms/step - loss: 4162841.7500 - val_loss: 4242295.0000\n",
      "Epoch 175/500\n",
      "234/234 [==============================] - 1s 6ms/step - loss: 4138764.7500 - val_loss: 4310384.0000\n",
      "Epoch 176/500\n",
      "234/234 [==============================] - 1s 6ms/step - loss: 4156362.0000 - val_loss: 4277861.0000\n",
      "Epoch 177/500\n",
      "234/234 [==============================] - 2s 6ms/step - loss: 4162350.0000 - val_loss: 4239378.0000\n",
      "Epoch 178/500\n",
      "234/234 [==============================] - 1s 6ms/step - loss: 4167774.0000 - val_loss: 4219207.0000\n",
      "Epoch 179/500\n",
      "234/234 [==============================] - 2s 6ms/step - loss: 4122597.7500 - val_loss: 4188763.7500\n",
      "Epoch 180/500\n",
      "234/234 [==============================] - 1s 6ms/step - loss: 4148162.2500 - val_loss: 4338546.0000\n",
      "Epoch 181/500\n",
      "234/234 [==============================] - 1s 6ms/step - loss: 4133049.2500 - val_loss: 4263885.0000\n",
      "Epoch 182/500\n",
      "234/234 [==============================] - 1s 6ms/step - loss: 4131886.7500 - val_loss: 4369843.0000\n",
      "Epoch 183/500\n",
      "234/234 [==============================] - 2s 7ms/step - loss: 4125584.0000 - val_loss: 4190271.0000\n",
      "Epoch 184/500\n",
      "234/234 [==============================] - 2s 6ms/step - loss: 4112589.5000 - val_loss: 4192607.2500\n",
      "Epoch 185/500\n",
      "234/234 [==============================] - 1s 6ms/step - loss: 4138044.7500 - val_loss: 4189649.7500\n",
      "Epoch 186/500\n",
      "234/234 [==============================] - 1s 6ms/step - loss: 4160083.5000 - val_loss: 4484910.0000\n",
      "Epoch 187/500\n",
      "234/234 [==============================] - 2s 8ms/step - loss: 4111584.7500 - val_loss: 4144412.0000\n",
      "Epoch 188/500\n",
      "234/234 [==============================] - 2s 7ms/step - loss: 4135873.5000 - val_loss: 4193905.0000\n",
      "Epoch 189/500\n",
      "234/234 [==============================] - 2s 6ms/step - loss: 4113278.7500 - val_loss: 4179378.0000\n",
      "Epoch 190/500\n",
      "234/234 [==============================] - 2s 6ms/step - loss: 4100687.7500 - val_loss: 4308209.5000\n",
      "Epoch 191/500\n",
      "234/234 [==============================] - 2s 6ms/step - loss: 4121438.2500 - val_loss: 4357325.0000\n",
      "Epoch 192/500\n",
      "234/234 [==============================] - 2s 7ms/step - loss: 4113822.5000 - val_loss: 4195985.0000\n",
      "Epoch 193/500\n",
      "234/234 [==============================] - 2s 7ms/step - loss: 4082361.0000 - val_loss: 4235402.5000\n",
      "Epoch 194/500\n",
      "234/234 [==============================] - 1s 6ms/step - loss: 4134430.2500 - val_loss: 4218305.0000\n",
      "Epoch 195/500\n",
      "234/234 [==============================] - 2s 6ms/step - loss: 4120590.5000 - val_loss: 4253156.5000\n",
      "Epoch 196/500\n",
      "234/234 [==============================] - 2s 6ms/step - loss: 4107121.5000 - val_loss: 4211474.5000\n",
      "Epoch 197/500\n",
      "234/234 [==============================] - 2s 6ms/step - loss: 4100382.7500 - val_loss: 4147788.7500\n",
      "Epoch 198/500\n",
      "234/234 [==============================] - 2s 6ms/step - loss: 4074837.7500 - val_loss: 4141853.2500\n",
      "Epoch 199/500\n",
      "234/234 [==============================] - 1s 6ms/step - loss: 4070525.5000 - val_loss: 4213773.0000\n",
      "Epoch 200/500\n",
      "234/234 [==============================] - 1s 6ms/step - loss: 4098870.0000 - val_loss: 4162208.0000\n",
      "Epoch 201/500\n",
      "234/234 [==============================] - 1s 6ms/step - loss: 4084434.2500 - val_loss: 4291878.5000\n",
      "Epoch 202/500\n",
      "234/234 [==============================] - 1s 6ms/step - loss: 4065787.7500 - val_loss: 4497378.5000\n",
      "Epoch 203/500\n",
      "234/234 [==============================] - 1s 6ms/step - loss: 4081877.0000 - val_loss: 4161500.2500\n",
      "Epoch 204/500\n",
      "234/234 [==============================] - 2s 6ms/step - loss: 4084535.2500 - val_loss: 4133114.7500\n",
      "Epoch 205/500\n",
      "234/234 [==============================] - 2s 6ms/step - loss: 4089727.2500 - val_loss: 4162574.7500\n",
      "Epoch 206/500\n",
      "234/234 [==============================] - 1s 6ms/step - loss: 4057566.0000 - val_loss: 4191123.0000\n",
      "Epoch 207/500\n",
      "234/234 [==============================] - 1s 6ms/step - loss: 4081436.5000 - val_loss: 4130098.5000\n",
      "Epoch 208/500\n",
      "234/234 [==============================] - 1s 6ms/step - loss: 4067789.2500 - val_loss: 4226327.0000\n",
      "Epoch 209/500\n",
      "234/234 [==============================] - 1s 6ms/step - loss: 4074665.2500 - val_loss: 4217505.0000\n",
      "Epoch 210/500\n",
      "234/234 [==============================] - 1s 6ms/step - loss: 4074582.2500 - val_loss: 4210690.0000\n",
      "Epoch 211/500\n",
      "234/234 [==============================] - 2s 6ms/step - loss: 4067751.7500 - val_loss: 4102764.2500\n",
      "Epoch 212/500\n",
      "234/234 [==============================] - 1s 6ms/step - loss: 4016727.2500 - val_loss: 4250238.5000\n",
      "Epoch 213/500\n",
      "234/234 [==============================] - 1s 6ms/step - loss: 4049962.7500 - val_loss: 4254810.0000\n",
      "Epoch 214/500\n",
      "234/234 [==============================] - 1s 6ms/step - loss: 4078387.2500 - val_loss: 4435778.5000\n",
      "Epoch 215/500\n"
     ]
    },
    {
     "name": "stdout",
     "output_type": "stream",
     "text": [
      "234/234 [==============================] - 1s 6ms/step - loss: 4048476.0000 - val_loss: 4390562.0000\n",
      "Epoch 216/500\n",
      "234/234 [==============================] - 1s 6ms/step - loss: 4076796.2500 - val_loss: 4137235.0000\n",
      "Epoch 217/500\n",
      "234/234 [==============================] - 1s 6ms/step - loss: 4037090.2500 - val_loss: 4096762.2500\n",
      "Epoch 218/500\n",
      "234/234 [==============================] - 1s 6ms/step - loss: 4044773.2500 - val_loss: 4108143.0000\n",
      "Epoch 219/500\n",
      "234/234 [==============================] - 1s 6ms/step - loss: 4040683.5000 - val_loss: 4207519.0000\n",
      "Epoch 220/500\n",
      "234/234 [==============================] - 1s 6ms/step - loss: 4022641.0000 - val_loss: 4087676.0000\n",
      "Epoch 221/500\n",
      "234/234 [==============================] - 1s 6ms/step - loss: 4048370.7500 - val_loss: 4176842.2500\n",
      "Epoch 222/500\n",
      "234/234 [==============================] - 1s 6ms/step - loss: 4044344.0000 - val_loss: 4076892.5000\n",
      "Epoch 223/500\n",
      "234/234 [==============================] - 1s 6ms/step - loss: 4021898.0000 - val_loss: 4083801.5000\n",
      "Epoch 224/500\n",
      "234/234 [==============================] - 1s 6ms/step - loss: 4009680.5000 - val_loss: 4138565.2500\n",
      "Epoch 225/500\n",
      "234/234 [==============================] - 1s 6ms/step - loss: 4022133.2500 - val_loss: 4133588.7500\n",
      "Epoch 226/500\n",
      "234/234 [==============================] - 1s 6ms/step - loss: 4031512.0000 - val_loss: 4059063.2500\n",
      "Epoch 227/500\n",
      "234/234 [==============================] - 1s 6ms/step - loss: 4013292.2500 - val_loss: 4077788.7500\n",
      "Epoch 228/500\n",
      "234/234 [==============================] - 1s 6ms/step - loss: 4050130.5000 - val_loss: 4043594.7500\n",
      "Epoch 229/500\n",
      "234/234 [==============================] - 1s 6ms/step - loss: 4035833.5000 - val_loss: 4042400.2500\n",
      "Epoch 230/500\n",
      "234/234 [==============================] - 1s 6ms/step - loss: 4009878.7500 - val_loss: 4110819.0000\n",
      "Epoch 231/500\n",
      "234/234 [==============================] - 2s 7ms/step - loss: 3997548.2500 - val_loss: 4110213.0000\n",
      "Epoch 232/500\n",
      "234/234 [==============================] - 2s 6ms/step - loss: 4003753.5000 - val_loss: 4060852.7500\n",
      "Epoch 233/500\n",
      "234/234 [==============================] - 1s 6ms/step - loss: 4005483.2500 - val_loss: 4223729.0000\n",
      "Epoch 234/500\n",
      "234/234 [==============================] - 1s 6ms/step - loss: 4005267.2500 - val_loss: 4060049.7500\n",
      "Epoch 235/500\n",
      "234/234 [==============================] - 1s 6ms/step - loss: 3997792.7500 - val_loss: 4164124.0000\n",
      "Epoch 236/500\n",
      "234/234 [==============================] - 1s 6ms/step - loss: 3982073.5000 - val_loss: 4102735.7500\n",
      "Epoch 237/500\n",
      "234/234 [==============================] - 1s 6ms/step - loss: 4012770.7500 - val_loss: 4042419.5000\n",
      "Epoch 238/500\n",
      "234/234 [==============================] - 1s 6ms/step - loss: 3991828.0000 - val_loss: 4083390.0000\n",
      "Epoch 239/500\n",
      "234/234 [==============================] - 1s 6ms/step - loss: 3983029.0000 - val_loss: 4064242.2500\n",
      "Epoch 240/500\n",
      "234/234 [==============================] - 1s 6ms/step - loss: 3995416.0000 - val_loss: 4030215.0000\n",
      "Epoch 241/500\n",
      "234/234 [==============================] - 1s 6ms/step - loss: 3971631.5000 - val_loss: 4011212.7500\n",
      "Epoch 242/500\n",
      "234/234 [==============================] - 1s 6ms/step - loss: 3988643.5000 - val_loss: 4241949.0000\n",
      "Epoch 243/500\n",
      "234/234 [==============================] - 1s 6ms/step - loss: 3971770.2500 - val_loss: 4073854.5000\n",
      "Epoch 244/500\n",
      "234/234 [==============================] - 1s 6ms/step - loss: 3978786.7500 - val_loss: 3989091.2500\n",
      "Epoch 245/500\n",
      "234/234 [==============================] - 1s 6ms/step - loss: 3968541.7500 - val_loss: 4114796.5000\n",
      "Epoch 246/500\n",
      "234/234 [==============================] - 2s 6ms/step - loss: 3953918.7500 - val_loss: 3998918.0000\n",
      "Epoch 247/500\n",
      "234/234 [==============================] - 2s 7ms/step - loss: 3965203.5000 - val_loss: 4035497.0000\n",
      "Epoch 248/500\n",
      "234/234 [==============================] - 2s 7ms/step - loss: 3996456.5000 - val_loss: 4067925.2500\n",
      "Epoch 249/500\n",
      "234/234 [==============================] - 2s 7ms/step - loss: 3974890.7500 - val_loss: 3996460.2500\n",
      "Epoch 250/500\n",
      "234/234 [==============================] - 2s 6ms/step - loss: 3974507.2500 - val_loss: 4018328.0000\n",
      "Epoch 251/500\n",
      "234/234 [==============================] - 2s 6ms/step - loss: 3974053.0000 - val_loss: 4074841.7500\n",
      "Epoch 252/500\n",
      "234/234 [==============================] - 2s 6ms/step - loss: 3969871.0000 - val_loss: 4038298.7500\n",
      "Epoch 253/500\n",
      "234/234 [==============================] - 2s 6ms/step - loss: 3960670.5000 - val_loss: 4015570.2500\n",
      "Epoch 254/500\n",
      "234/234 [==============================] - 1s 6ms/step - loss: 3981634.5000 - val_loss: 4077565.0000\n",
      "Epoch 255/500\n",
      "234/234 [==============================] - 2s 6ms/step - loss: 3967282.0000 - val_loss: 4284302.5000\n",
      "Epoch 256/500\n",
      "234/234 [==============================] - 2s 7ms/step - loss: 3991952.7500 - val_loss: 4027163.2500\n",
      "Epoch 257/500\n",
      "234/234 [==============================] - 2s 7ms/step - loss: 3958353.5000 - val_loss: 4014962.5000\n",
      "Epoch 258/500\n",
      "234/234 [==============================] - 2s 7ms/step - loss: 3954592.7500 - val_loss: 4044971.5000\n",
      "Epoch 259/500\n",
      "234/234 [==============================] - 1s 6ms/step - loss: 3945750.0000 - val_loss: 3990206.0000\n",
      "Epoch 260/500\n",
      "234/234 [==============================] - 1s 6ms/step - loss: 3984224.5000 - val_loss: 3984787.7500\n",
      "Epoch 261/500\n",
      "234/234 [==============================] - 1s 6ms/step - loss: 3940463.7500 - val_loss: 4011166.2500\n",
      "Epoch 262/500\n",
      "234/234 [==============================] - 1s 6ms/step - loss: 3929762.5000 - val_loss: 4006594.7500\n",
      "Epoch 263/500\n",
      "234/234 [==============================] - 1s 6ms/step - loss: 3944641.5000 - val_loss: 4049139.5000\n",
      "Epoch 264/500\n",
      "234/234 [==============================] - 2s 6ms/step - loss: 3958503.2500 - val_loss: 3977234.7500\n",
      "Epoch 265/500\n",
      "234/234 [==============================] - 1s 6ms/step - loss: 3955379.0000 - val_loss: 4222266.5000\n",
      "Epoch 266/500\n",
      "234/234 [==============================] - 1s 6ms/step - loss: 3943627.5000 - val_loss: 4107901.5000\n",
      "Epoch 267/500\n",
      "234/234 [==============================] - 1s 6ms/step - loss: 3937683.2500 - val_loss: 4333054.5000\n",
      "Epoch 268/500\n",
      "234/234 [==============================] - 2s 7ms/step - loss: 3919525.0000 - val_loss: 3998711.0000\n",
      "Epoch 269/500\n",
      "234/234 [==============================] - 2s 7ms/step - loss: 3928834.5000 - val_loss: 3990710.7500\n",
      "Epoch 270/500\n",
      "234/234 [==============================] - 2s 7ms/step - loss: 3933993.7500 - val_loss: 4184019.2500\n",
      "Epoch 271/500\n",
      "234/234 [==============================] - 2s 6ms/step - loss: 3925825.0000 - val_loss: 4058113.5000\n",
      "Epoch 272/500\n",
      "234/234 [==============================] - 1s 6ms/step - loss: 3915702.2500 - val_loss: 4010344.5000\n",
      "Epoch 273/500\n",
      "234/234 [==============================] - 1s 6ms/step - loss: 3919404.7500 - val_loss: 4040476.7500\n",
      "Epoch 274/500\n",
      "234/234 [==============================] - 1s 6ms/step - loss: 3924638.0000 - val_loss: 3997917.7500\n",
      "Epoch 275/500\n",
      "234/234 [==============================] - 2s 7ms/step - loss: 3911063.5000 - val_loss: 4044387.2500\n",
      "Epoch 276/500\n",
      "234/234 [==============================] - 1s 6ms/step - loss: 3921806.2500 - val_loss: 3960311.7500\n",
      "Epoch 277/500\n",
      "234/234 [==============================] - 2s 6ms/step - loss: 3915120.7500 - val_loss: 4000894.2500\n",
      "Epoch 278/500\n",
      "234/234 [==============================] - 1s 6ms/step - loss: 3920098.2500 - val_loss: 3938664.5000\n",
      "Epoch 279/500\n",
      "234/234 [==============================] - 2s 6ms/step - loss: 3919551.5000 - val_loss: 4030967.2500\n",
      "Epoch 280/500\n",
      "234/234 [==============================] - 1s 6ms/step - loss: 3931791.5000 - val_loss: 4068878.2500\n",
      "Epoch 281/500\n",
      "234/234 [==============================] - 1s 6ms/step - loss: 3924854.0000 - val_loss: 4037931.2500\n",
      "Epoch 282/500\n",
      "234/234 [==============================] - 2s 7ms/step - loss: 3885697.7500 - val_loss: 3925832.2500\n",
      "Epoch 283/500\n",
      "234/234 [==============================] - 2s 10ms/step - loss: 3878541.5000 - val_loss: 3956088.7500\n",
      "Epoch 284/500\n",
      "234/234 [==============================] - 2s 7ms/step - loss: 3892301.0000 - val_loss: 3959081.7500\n",
      "Epoch 285/500\n",
      "234/234 [==============================] - 2s 6ms/step - loss: 3882002.5000 - val_loss: 4011701.2500\n",
      "Epoch 286/500\n"
     ]
    },
    {
     "name": "stdout",
     "output_type": "stream",
     "text": [
      "234/234 [==============================] - 2s 6ms/step - loss: 3905062.2500 - val_loss: 4043097.0000\n",
      "Epoch 287/500\n",
      "234/234 [==============================] - 1s 6ms/step - loss: 3904708.2500 - val_loss: 4161268.0000\n",
      "Epoch 288/500\n",
      "234/234 [==============================] - 2s 7ms/step - loss: 3894784.5000 - val_loss: 3947589.2500\n",
      "Epoch 289/500\n",
      "234/234 [==============================] - 2s 6ms/step - loss: 3890105.2500 - val_loss: 3962398.7500\n",
      "Epoch 290/500\n",
      "234/234 [==============================] - 1s 6ms/step - loss: 3895423.7500 - val_loss: 3969041.2500\n",
      "Epoch 291/500\n",
      "234/234 [==============================] - 1s 6ms/step - loss: 3891267.5000 - val_loss: 3935997.2500\n",
      "Epoch 292/500\n",
      "234/234 [==============================] - 2s 6ms/step - loss: 3893261.5000 - val_loss: 3919694.7500\n",
      "Epoch 293/500\n",
      "234/234 [==============================] - 2s 6ms/step - loss: 3874308.7500 - val_loss: 3978599.7500\n",
      "Epoch 294/500\n",
      "234/234 [==============================] - 2s 7ms/step - loss: 3870718.0000 - val_loss: 3948042.5000\n",
      "Epoch 295/500\n",
      "234/234 [==============================] - 2s 6ms/step - loss: 3867910.2500 - val_loss: 3890001.2500\n",
      "Epoch 296/500\n",
      "234/234 [==============================] - 1s 6ms/step - loss: 3867967.5000 - val_loss: 4021183.2500\n",
      "Epoch 297/500\n",
      "234/234 [==============================] - 1s 6ms/step - loss: 3878720.5000 - val_loss: 3944945.2500\n",
      "Epoch 298/500\n",
      "234/234 [==============================] - 1s 6ms/step - loss: 3885246.2500 - val_loss: 3935234.5000\n",
      "Epoch 299/500\n",
      "234/234 [==============================] - 2s 7ms/step - loss: 3888441.7500 - val_loss: 3930809.5000\n",
      "Epoch 300/500\n",
      "234/234 [==============================] - 2s 7ms/step - loss: 3849745.0000 - val_loss: 3935065.7500\n",
      "Epoch 301/500\n",
      "234/234 [==============================] - 2s 7ms/step - loss: 3860345.5000 - val_loss: 3946045.7500\n",
      "Epoch 302/500\n",
      "234/234 [==============================] - 2s 7ms/step - loss: 3878968.0000 - val_loss: 3974003.0000\n",
      "Epoch 303/500\n",
      "234/234 [==============================] - 2s 8ms/step - loss: 3863820.7500 - val_loss: 3955806.2500\n",
      "Epoch 304/500\n",
      "234/234 [==============================] - 2s 8ms/step - loss: 3848710.5000 - val_loss: 3947168.2500\n",
      "Epoch 305/500\n",
      "234/234 [==============================] - 2s 8ms/step - loss: 3854515.2500 - val_loss: 4000638.2500\n",
      "Epoch 306/500\n",
      "234/234 [==============================] - 2s 8ms/step - loss: 3859320.7500 - val_loss: 3909222.0000\n",
      "Epoch 307/500\n",
      "234/234 [==============================] - 2s 7ms/step - loss: 3834817.7500 - val_loss: 3929732.5000\n",
      "Epoch 308/500\n",
      "234/234 [==============================] - 2s 8ms/step - loss: 3828995.2500 - val_loss: 3922140.2500\n",
      "Epoch 309/500\n",
      "234/234 [==============================] - 2s 7ms/step - loss: 3869982.7500 - val_loss: 3955716.5000\n",
      "Epoch 310/500\n",
      "234/234 [==============================] - 2s 7ms/step - loss: 3837474.7500 - val_loss: 3912032.7500\n",
      "Epoch 311/500\n",
      "234/234 [==============================] - 2s 7ms/step - loss: 3837862.0000 - val_loss: 3888308.7500\n",
      "Epoch 312/500\n",
      "234/234 [==============================] - 2s 8ms/step - loss: 3852926.0000 - val_loss: 3936972.2500\n",
      "Epoch 313/500\n",
      "234/234 [==============================] - 2s 8ms/step - loss: 3839920.7500 - val_loss: 4011239.7500\n",
      "Epoch 314/500\n",
      "234/234 [==============================] - 2s 8ms/step - loss: 3807951.2500 - val_loss: 3907306.0000\n",
      "Epoch 315/500\n",
      "234/234 [==============================] - 2s 8ms/step - loss: 3815905.2500 - val_loss: 3904470.2500\n",
      "Epoch 316/500\n",
      "234/234 [==============================] - 2s 8ms/step - loss: 3831846.0000 - val_loss: 3938848.5000\n",
      "Epoch 317/500\n",
      "234/234 [==============================] - 2s 7ms/step - loss: 3816306.5000 - val_loss: 3939618.7500\n",
      "Epoch 318/500\n",
      "234/234 [==============================] - 2s 8ms/step - loss: 3825535.7500 - val_loss: 4163342.2500\n",
      "Epoch 319/500\n",
      "234/234 [==============================] - 2s 7ms/step - loss: 3830363.2500 - val_loss: 3946774.2500\n",
      "Epoch 320/500\n",
      "234/234 [==============================] - 2s 8ms/step - loss: 3817347.7500 - val_loss: 4148955.0000\n",
      "Epoch 321/500\n",
      "234/234 [==============================] - 2s 8ms/step - loss: 3827592.2500 - val_loss: 3897413.2500\n",
      "Epoch 322/500\n",
      "234/234 [==============================] - 2s 8ms/step - loss: 3785264.2500 - val_loss: 3938225.5000\n",
      "Epoch 323/500\n",
      "234/234 [==============================] - 2s 8ms/step - loss: 3818013.7500 - val_loss: 3924178.7500\n",
      "Epoch 324/500\n",
      "234/234 [==============================] - 2s 8ms/step - loss: 3779129.2500 - val_loss: 3892005.2500\n",
      "Epoch 325/500\n",
      "234/234 [==============================] - 2s 7ms/step - loss: 3793982.5000 - val_loss: 3984966.7500\n",
      "Epoch 326/500\n",
      "234/234 [==============================] - 2s 7ms/step - loss: 3800681.2500 - val_loss: 3911447.0000\n",
      "Epoch 327/500\n",
      "234/234 [==============================] - 2s 7ms/step - loss: 3785908.0000 - val_loss: 3965422.0000\n",
      "Epoch 328/500\n",
      "234/234 [==============================] - 2s 7ms/step - loss: 3766523.0000 - val_loss: 3952399.5000\n",
      "Epoch 329/500\n",
      "234/234 [==============================] - 2s 7ms/step - loss: 3794718.7500 - val_loss: 3861064.0000\n",
      "Epoch 330/500\n",
      "234/234 [==============================] - 2s 7ms/step - loss: 3767250.7500 - val_loss: 3849198.5000\n",
      "Epoch 331/500\n",
      "234/234 [==============================] - 2s 7ms/step - loss: 3793165.5000 - val_loss: 3857162.2500\n",
      "Epoch 332/500\n",
      "234/234 [==============================] - 2s 8ms/step - loss: 3798201.5000 - val_loss: 3887242.2500\n",
      "Epoch 333/500\n",
      "234/234 [==============================] - 2s 7ms/step - loss: 3770192.2500 - val_loss: 3908331.7500\n",
      "Epoch 334/500\n",
      "234/234 [==============================] - 2s 7ms/step - loss: 3757109.2500 - val_loss: 3860083.2500\n",
      "Epoch 335/500\n",
      "234/234 [==============================] - 2s 7ms/step - loss: 3779640.7500 - val_loss: 3851474.7500\n",
      "Epoch 336/500\n",
      "234/234 [==============================] - 2s 7ms/step - loss: 3806682.0000 - val_loss: 3873917.2500\n",
      "Epoch 337/500\n",
      "234/234 [==============================] - 2s 7ms/step - loss: 3752041.0000 - val_loss: 3882283.7500\n",
      "Epoch 338/500\n",
      "234/234 [==============================] - 2s 7ms/step - loss: 3766936.2500 - val_loss: 3943633.0000\n",
      "Epoch 339/500\n",
      "234/234 [==============================] - 2s 7ms/step - loss: 3761516.0000 - val_loss: 3960914.7500\n",
      "Epoch 340/500\n",
      "234/234 [==============================] - 2s 7ms/step - loss: 3751286.0000 - val_loss: 3946529.7500\n",
      "Epoch 341/500\n",
      "234/234 [==============================] - 2s 7ms/step - loss: 3764769.2500 - val_loss: 3854379.2500\n",
      "Epoch 342/500\n",
      "234/234 [==============================] - 2s 7ms/step - loss: 3767999.7500 - val_loss: 3816265.5000\n",
      "Epoch 343/500\n",
      "234/234 [==============================] - 2s 7ms/step - loss: 3746148.0000 - val_loss: 3975125.7500\n",
      "Epoch 344/500\n",
      "234/234 [==============================] - 2s 7ms/step - loss: 3739702.0000 - val_loss: 3925473.5000\n",
      "Epoch 345/500\n",
      "234/234 [==============================] - 2s 7ms/step - loss: 3737326.2500 - val_loss: 3821943.7500\n",
      "Epoch 346/500\n",
      "234/234 [==============================] - 2s 7ms/step - loss: 3766264.5000 - val_loss: 3834322.2500\n",
      "Epoch 347/500\n",
      "234/234 [==============================] - 2s 8ms/step - loss: 3734325.2500 - val_loss: 3808428.7500\n",
      "Epoch 348/500\n",
      "234/234 [==============================] - 2s 7ms/step - loss: 3737062.7500 - val_loss: 3887666.0000\n",
      "Epoch 349/500\n",
      "234/234 [==============================] - 2s 7ms/step - loss: 3733149.7500 - val_loss: 3886212.0000\n",
      "Epoch 350/500\n",
      "234/234 [==============================] - 2s 7ms/step - loss: 3748218.5000 - val_loss: 3925864.0000\n",
      "Epoch 351/500\n",
      "234/234 [==============================] - 2s 7ms/step - loss: 3706977.7500 - val_loss: 3918317.0000\n",
      "Epoch 352/500\n",
      "234/234 [==============================] - 2s 6ms/step - loss: 3736640.5000 - val_loss: 4066400.2500\n",
      "Epoch 353/500\n",
      "234/234 [==============================] - 2s 6ms/step - loss: 3737576.2500 - val_loss: 3855904.7500\n",
      "Epoch 354/500\n",
      "234/234 [==============================] - 2s 7ms/step - loss: 3697909.5000 - val_loss: 3900486.2500\n",
      "Epoch 355/500\n",
      "234/234 [==============================] - 2s 6ms/step - loss: 3690479.0000 - val_loss: 3881827.7500\n",
      "Epoch 356/500\n",
      "234/234 [==============================] - 1s 6ms/step - loss: 3751637.7500 - val_loss: 4082729.5000\n",
      "Epoch 357/500\n"
     ]
    },
    {
     "name": "stdout",
     "output_type": "stream",
     "text": [
      "234/234 [==============================] - 1s 6ms/step - loss: 3739475.0000 - val_loss: 3804950.5000\n",
      "Epoch 358/500\n",
      "234/234 [==============================] - 1s 6ms/step - loss: 3710536.7500 - val_loss: 3841062.7500\n",
      "Epoch 359/500\n",
      "234/234 [==============================] - 1s 6ms/step - loss: 3718783.2500 - val_loss: 3856317.0000\n",
      "Epoch 360/500\n",
      "234/234 [==============================] - 1s 6ms/step - loss: 3703651.2500 - val_loss: 3823106.7500\n",
      "Epoch 361/500\n",
      "234/234 [==============================] - 1s 6ms/step - loss: 3696625.5000 - val_loss: 3941260.7500\n",
      "Epoch 362/500\n",
      "234/234 [==============================] - 1s 6ms/step - loss: 3695926.2500 - val_loss: 3887225.0000\n",
      "Epoch 363/500\n",
      "234/234 [==============================] - 1s 6ms/step - loss: 3709283.0000 - val_loss: 3839650.2500\n",
      "Epoch 364/500\n",
      "234/234 [==============================] - 1s 6ms/step - loss: 3673908.2500 - val_loss: 3828245.5000\n",
      "Epoch 365/500\n",
      "234/234 [==============================] - 1s 6ms/step - loss: 3683497.7500 - val_loss: 3863381.5000\n",
      "Epoch 366/500\n",
      "234/234 [==============================] - 1s 6ms/step - loss: 3702913.5000 - val_loss: 3953575.5000\n",
      "Epoch 367/500\n",
      "234/234 [==============================] - 1s 6ms/step - loss: 3669710.2500 - val_loss: 3859371.0000\n",
      "Epoch 368/500\n",
      "234/234 [==============================] - 1s 6ms/step - loss: 3689672.7500 - val_loss: 3777392.2500\n",
      "Epoch 369/500\n",
      "234/234 [==============================] - 1s 6ms/step - loss: 3680358.7500 - val_loss: 3826764.0000\n",
      "Epoch 370/500\n",
      "234/234 [==============================] - 1s 6ms/step - loss: 3687471.0000 - val_loss: 3865315.0000\n",
      "Epoch 371/500\n",
      "234/234 [==============================] - 1s 6ms/step - loss: 3675311.5000 - val_loss: 3831553.2500\n",
      "Epoch 372/500\n",
      "234/234 [==============================] - 1s 6ms/step - loss: 3713873.0000 - val_loss: 3876128.5000\n",
      "Epoch 373/500\n",
      "234/234 [==============================] - 1s 6ms/step - loss: 3665993.5000 - val_loss: 3812566.0000\n",
      "Epoch 374/500\n",
      "234/234 [==============================] - 1s 6ms/step - loss: 3639496.5000 - val_loss: 3905401.5000\n",
      "Epoch 375/500\n",
      "234/234 [==============================] - 2s 6ms/step - loss: 3672819.5000 - val_loss: 3779007.0000\n",
      "Epoch 376/500\n",
      "234/234 [==============================] - 1s 6ms/step - loss: 3671263.0000 - val_loss: 3863081.7500\n",
      "Epoch 377/500\n",
      "234/234 [==============================] - 1s 6ms/step - loss: 3653308.2500 - val_loss: 3859463.2500\n",
      "Epoch 378/500\n",
      "234/234 [==============================] - 1s 6ms/step - loss: 3667483.0000 - val_loss: 3812395.7500\n",
      "Epoch 379/500\n",
      "234/234 [==============================] - 1s 6ms/step - loss: 3662552.2500 - val_loss: 3835786.5000\n",
      "Epoch 380/500\n",
      "234/234 [==============================] - 1s 6ms/step - loss: 3649431.7500 - val_loss: 3849974.5000\n",
      "Epoch 381/500\n",
      "234/234 [==============================] - 1s 6ms/step - loss: 3624206.7500 - val_loss: 3823181.5000\n",
      "Epoch 382/500\n",
      "234/234 [==============================] - 1s 6ms/step - loss: 3640120.0000 - val_loss: 3864058.7500\n",
      "Epoch 383/500\n",
      "234/234 [==============================] - 1s 6ms/step - loss: 3659286.5000 - val_loss: 3878984.2500\n",
      "Epoch 384/500\n",
      "234/234 [==============================] - 1s 6ms/step - loss: 3625719.0000 - val_loss: 3842818.7500\n",
      "Epoch 385/500\n",
      "234/234 [==============================] - 1s 6ms/step - loss: 3641499.7500 - val_loss: 3916747.2500\n",
      "Epoch 386/500\n",
      "234/234 [==============================] - 1s 6ms/step - loss: 3657367.5000 - val_loss: 3807316.0000\n",
      "Epoch 387/500\n",
      "234/234 [==============================] - 2s 6ms/step - loss: 3636788.5000 - val_loss: 3852297.5000\n",
      "Epoch 388/500\n",
      "234/234 [==============================] - 2s 8ms/step - loss: 3614785.5000 - val_loss: 3841866.0000\n",
      "Epoch 00388: early stopping\n"
     ]
    },
    {
     "data": {
      "text/plain": [
       "<keras.callbacks.History at 0x22f0d9ed130>"
      ]
     },
     "execution_count": 86,
     "metadata": {},
     "output_type": "execute_result"
    }
   ],
   "source": [
    "model_nn.fit(x=X_train_scaled,y=y_train,validation_data=(X_test_scaled,y_test),epochs=500,batch_size=32,callbacks=[early_stop])"
   ]
  },
  {
   "cell_type": "code",
   "execution_count": 87,
   "id": "bef9e42f",
   "metadata": {},
   "outputs": [],
   "source": [
    "losses=pd.DataFrame(model_nn.history.history)"
   ]
  },
  {
   "cell_type": "code",
   "execution_count": 88,
   "id": "a16733ea",
   "metadata": {},
   "outputs": [
    {
     "data": {
      "text/plain": [
       "<AxesSubplot:>"
      ]
     },
     "execution_count": 88,
     "metadata": {},
     "output_type": "execute_result"
    },
    {
     "data": {
      "image/png": "[encoded data removed]",
      "text/plain": [
       "<Figure size 432x288 with 1 Axes>"
      ]
     },
     "metadata": {
      "needs_background": "light"
     },
     "output_type": "display_data"
    }
   ],
   "source": [
    "losses.plot()"
   ]
  },
  {
   "cell_type": "code",
   "execution_count": 89,
   "id": "307e0639",
   "metadata": {},
   "outputs": [],
   "source": [
    "predictions_nn_more_epochs=model_nn.predict(X_test_scaled)"
   ]
  },
  {
   "cell_type": "code",
   "execution_count": 90,
   "id": "4e6a9953",
   "metadata": {},
   "outputs": [
    {
     "name": "stdout",
     "output_type": "stream",
     "text": [
      "MAE:  1393.9390124149888\n",
      "MSE:  3841866.4512647036\n",
      "RMSE:  1960.0679710828151\n",
      "Explained Variance Score:  0.7991859673778406\n"
     ]
    }
   ],
   "source": [
    "metrics(y_test,predictions_nn_more_epochs)"
   ]
  },
  {
   "cell_type": "code",
   "execution_count": 91,
   "id": "68959b13",
   "metadata": {},
   "outputs": [
    {
     "data": {
      "text/plain": [
       "83.67155548406285"
      ]
     },
     "execution_count": 91,
     "metadata": {},
     "output_type": "execute_result"
    }
   ],
   "source": [
    "accuracy(y_test,predictions_nn_more_epochs.reshape(3205,))"
   ]
  },
  {
   "cell_type": "code",
   "execution_count": 92,
   "id": "8d79ce08",
   "metadata": {},
   "outputs": [],
   "source": [
    "from tensorflow.keras.models import save_model"
   ]
  },
  {
   "cell_type": "code",
   "execution_count": 93,
   "id": "a76a5a43",
   "metadata": {},
   "outputs": [],
   "source": [
    "save_model(model_nn,'neural_network.h5')"
   ]
  },
  {
   "cell_type": "code",
   "execution_count": 94,
   "id": "0182ab94",
   "metadata": {},
   "outputs": [
    {
     "data": {
      "text/plain": [
       "<seaborn.axisgrid.FacetGrid at 0x22f0b215dc0>"
      ]
     },
     "execution_count": 94,
     "metadata": {},
     "output_type": "execute_result"
    },
    {
     "data": {
      "image/png": "[encoded data removed]",
      "text/plain": [
       "<Figure size 360x360 with 1 Axes>"
      ]
     },
     "metadata": {
      "needs_background": "light"
     },
     "output_type": "display_data"
    }
   ],
   "source": [
    "sns.displot(predictions_nn_more_epochs.reshape((3205,)),kde=True)"
   ]
  },
  {
   "cell_type": "code",
   "execution_count": null,
   "id": "d09ceefe",
   "metadata": {},
   "outputs": [],
   "source": []
  }
 ],
 "metadata": {
  "kernelspec": {
   "display_name": "Python 3 (ipykernel)",
   "language": "python",
   "name": "python3"
  },
  "language_info": {
   "codemirror_mode": {
    "name": "ipython",
    "version": 3
   },
   "file_extension": ".py",
   "mimetype": "text/x-python",
   "name": "python",
   "nbconvert_exporter": "python",
   "pygments_lexer": "ipython3",
   "version": "3.9.7"
  }
 },
 "nbformat": 4,
 "nbformat_minor": 5
}
